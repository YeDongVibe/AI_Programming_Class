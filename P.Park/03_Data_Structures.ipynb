{
 "cells": [
  {
   "attachments": {},
   "cell_type": "markdown",
   "metadata": {},
   "source": [
    "# List\n",
    "* 수정 가능"
   ]
  },
  {
   "attachments": {},
   "cell_type": "markdown",
   "metadata": {},
   "source": [
    "append Vs extend\n",
    "* append : 추가할 전체를 그대로 삽입\n",
    "* extend : 추가할 전체의 원소를 삽입 : list와 list를 합칠 때 사용"
   ]
  },
  {
   "cell_type": "code",
   "execution_count": 1,
   "metadata": {},
   "outputs": [
    {
     "name": "stdout",
     "output_type": "stream",
     "text": [
      "[1, 2, 54, 6, 8, [10, 20]]\n",
      "[1, 2, 54, 6, 8, 10, 20]\n"
     ]
    }
   ],
   "source": [
    "nums = [1, 2, 54, 6, 8]\n",
    "nums1 = nums[:]\n",
    "nums2 = nums[:]\n",
    "\n",
    "nums1.append([10, 20])\n",
    "nums2.extend([10, 20])\n",
    "\n",
    "print(nums1)\n",
    "print(nums2)"
   ]
  },
  {
   "attachments": {},
   "cell_type": "markdown",
   "metadata": {},
   "source": [
    "# Tuple\n",
    "* 수정 불가 -> 새로운 Tuple을 만들어서 사용해야 함"
   ]
  },
  {
   "cell_type": "code",
   "execution_count": 2,
   "metadata": {},
   "outputs": [
    {
     "name": "stdout",
     "output_type": "stream",
     "text": [
      "('monkey', 'camel', ('python', 'elephant', 'penguin'))\n"
     ]
    }
   ],
   "source": [
    "zoo = ('python', 'elephant', 'penguin')\n",
    "\n",
    "new_zoo = 'monkey', 'camel', zoo\n",
    "print(new_zoo)"
   ]
  },
  {
   "cell_type": "code",
   "execution_count": 6,
   "metadata": {},
   "outputs": [
    {
     "name": "stdout",
     "output_type": "stream",
     "text": [
      "(1, 2, 3)\n",
      "1 2 3\n"
     ]
    }
   ],
   "source": [
    "def tmp():\n",
    "    return 1, 2, 3\n",
    "\n",
    "r1 = tmp()\n",
    "print(r1)\n",
    "\n",
    "v1, v2, v3 = tmp()\n",
    "print(v1, v2, v3)"
   ]
  },
  {
   "cell_type": "code",
   "execution_count": 7,
   "metadata": {},
   "outputs": [
    {
     "name": "stdout",
     "output_type": "stream",
     "text": [
      "('aa', 1)\n",
      "1\n",
      "cc\n"
     ]
    }
   ],
   "source": [
    "re = [('aa', 1), ('bb', 2), ('cc', 3), ('dd', 4)]\n",
    "\n",
    "print(re[0])\n",
    "\n",
    "print(re[0][1])\n",
    "\n",
    "print(re[2][0])"
   ]
  },
  {
   "attachments": {},
   "cell_type": "markdown",
   "metadata": {},
   "source": [
    "# References\n",
    "* 주소를 가리킴"
   ]
  },
  {
   "cell_type": "code",
   "execution_count": 31,
   "metadata": {},
   "outputs": [
    {
     "name": "stdout",
     "output_type": "stream",
     "text": [
      "shoplist is ['mango', 'carrot', 'banana']\n",
      "mylist is  ['mango', 'carrot', 'banana']\n",
      "sl 주소 :  2440353235712\n",
      "ml 주소 :  2440353235712\n",
      "Copy by making a full slice\n",
      "shoplist is ['mango', 'carrot', 'banana']\n",
      "mylist is  ['carrot', 'banana']\n",
      "sl 주소 :  2440353235712\n",
      "ml 주소 :  2440353208128\n"
     ]
    }
   ],
   "source": [
    "sl = ['apple', 'mango', 'carrot', 'banana']\n",
    "ml = sl # 동일한 주솟값을 사용함\n",
    "del ml[0]\n",
    "print('shoplist is', sl)\n",
    "print('mylist is ', ml)\n",
    "print('sl 주소 : ', id(sl))\n",
    "print('ml 주소 : ', id(ml))\n",
    "\n",
    "\n",
    "print('Copy by making a full slice')\n",
    "ml = sl[:] # sl의 처음부터 끝까지 값을 가져와 복사하기에 동일한 주솟값을 사용하지 않음\n",
    "\n",
    "del ml[0]\n",
    "\n",
    "print('shoplist is', sl)\n",
    "print('mylist is ', ml)\n",
    "print('sl 주소 : ', id(sl))\n",
    "print('ml 주소 : ', id(ml))"
   ]
  },
  {
   "cell_type": "code",
   "execution_count": null,
   "metadata": {},
   "outputs": [],
   "source": [
    "na = 'Swaroop'\n",
    "\n",
    "if(na.startswith('Swa')):\n",
    "    print(\"Yes, the Stirng starts with 'Swa'\")\n",
    "if('a' in na):\n",
    "    print(\"Yes, it contains the character 'a'\")\n",
    "if (na.find('war') != -1):\n",
    "    print(\"Yes, it contains the string 'war'\")\n",
    "delimiter = '_*_'\n",
    "ml = []"
   ]
  }
 ],
 "metadata": {
  "kernelspec": {
   "display_name": "Python 3",
   "language": "python",
   "name": "python3"
  },
  "language_info": {
   "codemirror_mode": {
    "name": "ipython",
    "version": 3
   },
   "file_extension": ".py",
   "mimetype": "text/x-python",
   "name": "python",
   "nbconvert_exporter": "python",
   "pygments_lexer": "ipython3",
   "version": "3.11.4"
  },
  "orig_nbformat": 4
 },
 "nbformat": 4,
 "nbformat_minor": 2
}
