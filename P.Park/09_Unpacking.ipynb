{
 "cells": [
  {
   "cell_type": "markdown",
   "metadata": {},
   "source": [
    "# 언패킹(Unpacking)\n",
    "- 내부에 기입된 요소들을 모두 가져오는 것이기에 부분적으로 언패킹할 수 없음\n",
    "- 리스트 또는 튜플 앞에 *(애스터리스크)를 붙여서 함수에 넣어주면 됨\n",
    "- 딕셔너리 앞에는 **를 붙여서 사용 < 키-값 형태로 저장되어 있기에 **를 두개입력 해야함. / *를 한개만 사용 시 키만 호출됨. >"
   ]
  },
  {
   "cell_type": "code",
   "execution_count": 3,
   "metadata": {},
   "outputs": [
    {
     "name": "stdout",
     "output_type": "stream",
     "text": [
      "10 20 30\n",
      "10 20 30\n",
      "[10, 20, 30]\n"
     ]
    }
   ],
   "source": [
    "x = [10, 20, 30]\n",
    "print(*x) # 언패킹\n",
    "print(x[0], x[1], x[2])\n",
    "print(x) # 그냥 출력"
   ]
  },
  {
   "cell_type": "markdown",
   "metadata": {},
   "source": [
    "# 가변 인수\n",
    "- 변할 수 있는 인수(입력값을 넣었을 때 변함)\n",
    "- def 함수이름(*매개변수):\n",
    "-    코드"
   ]
  },
  {
   "cell_type": "code",
   "execution_count": 5,
   "metadata": {},
   "outputs": [
    {
     "name": "stdout",
     "output_type": "stream",
     "text": [
      "1\n",
      "2\n",
      "3\n",
      "4\n",
      "5\n"
     ]
    }
   ],
   "source": [
    "def print_numbers(*args):\n",
    "     for arg in args:\n",
    "         print(arg)\n",
    "\n",
    "print_numbers(*(1, 2, 3, 4, 5))"
   ]
  },
  {
   "cell_type": "markdown",
   "metadata": {},
   "source": [
    "# 키워드 인수"
   ]
  },
  {
   "cell_type": "code",
   "execution_count": 7,
   "metadata": {},
   "outputs": [
    {
     "name": "stdout",
     "output_type": "stream",
     "text": [
      "이름:  홍길동\n",
      "나이:  30\n",
      "주소:  서울시 용산구 이촌동\n"
     ]
    }
   ],
   "source": [
    "def personal_info(name, age, address):\n",
    "    print('이름: ', name)\n",
    "    print('나이: ', age)\n",
    "    print('주소: ', address)\n",
    "\n",
    "personal_info('홍길동', 30, '서울시 용산구 이촌동')"
   ]
  },
  {
   "cell_type": "code",
   "execution_count": 11,
   "metadata": {},
   "outputs": [
    {
     "name": "stdout",
     "output_type": "stream",
     "text": [
      "홍길동\n",
      "30\n",
      "서울시 용산구 이촌동\n",
      "--------------------------------------------------\n",
      "name\n",
      "age\n",
      "address\n"
     ]
    }
   ],
   "source": [
    "def personal_info(name, age, address):\n",
    "    print(name)\n",
    "    print(age)\n",
    "    print(address)\n",
    "    \n",
    "data = {'name' : '홍길동', 'age' : 30, 'address' : '서울시 용산구 이촌동'} # 프린트되는 변수명(키값)과 딕셔너리의 키값이 동일해야 함\n",
    "\n",
    "personal_info(**data) # 딕셔너리 언패킹하려면 **를 사용\n",
    "print('-'*50)\n",
    "personal_info(*data) # *를 한개 사용시 키만 불러와짐"
   ]
  },
  {
   "cell_type": "code",
   "execution_count": 2,
   "metadata": {},
   "outputs": [
    {
     "name": "stdout",
     "output_type": "stream",
     "text": [
      "name: 홍길동\n",
      "age: 30\n",
      "address: 서울시 용산구 이촌동\n"
     ]
    }
   ],
   "source": [
    "def personal_info(**kwargs):\n",
    "    for kw, arg in kwargs.items(): # 키랑 값을 둘다 불러오기\n",
    "        print(kw, ': ', arg, sep='')\n",
    "        \n",
    "        \n",
    "data = {'name' : '홍길동', 'age' : 30, 'address' : '서울시 용산구 이촌동'}\n",
    "\n",
    "personal_info(**data)"
   ]
  }
 ],
 "metadata": {
  "kernelspec": {
   "display_name": "Python 3",
   "language": "python",
   "name": "python3"
  },
  "language_info": {
   "codemirror_mode": {
    "name": "ipython",
    "version": 3
   },
   "file_extension": ".py",
   "mimetype": "text/x-python",
   "name": "python",
   "nbconvert_exporter": "python",
   "pygments_lexer": "ipython3",
   "version": "3.11.4"
  },
  "orig_nbformat": 4
 },
 "nbformat": 4,
 "nbformat_minor": 2
}
