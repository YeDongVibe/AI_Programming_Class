{
 "cells": [
  {
   "cell_type": "markdown",
   "metadata": {},
   "source": [
    "# DIY Exception\n",
    "- class를 만들어 Exception의 상위 class를 상속 받아 내가 원하는 exception 만들기"
   ]
  },
  {
   "cell_type": "code",
   "execution_count": 5,
   "metadata": {},
   "outputs": [
    {
     "name": "stdout",
     "output_type": "stream",
     "text": [
      "Hello\n",
      "YeDong's Exception\n"
     ]
    }
   ],
   "source": [
    "class YeDongEception(Exception):\n",
    "    def __init__(self):\n",
    "        super().__init__(\"YeDong's Exception\")\n",
    "        \n",
    "def main():\n",
    "    try:\n",
    "        print('Hello')\n",
    "        raise YeDongEception\n",
    "    except YeDongEception as e:\n",
    "        print(e)\n",
    "\n",
    "main()"
   ]
  },
  {
   "cell_type": "code",
   "execution_count": 7,
   "metadata": {},
   "outputs": [
    {
     "name": "stdout",
     "output_type": "stream",
     "text": [
      "fun2\n",
      "fun1\n",
      "\n"
     ]
    }
   ],
   "source": [
    "def fun1():\n",
    "    try:\n",
    "        print('fun1')\n",
    "        raise ZeroDivisionError # fun1의 ZeroDivisionError가 발생했는데, Exception이 발생하지 않은 이유는 func2에서 ZeroDivisionError가 있기에, 이미 핸들링이 되어 발생하지 않음\n",
    "    except AttributeError as e:\n",
    "        print(e)\n",
    "\n",
    "def fun2():\n",
    "    try:\n",
    "        print('fun2')\n",
    "        fun1()\n",
    "    except ZeroDivisionError as e:\n",
    "        print(e)\n",
    "        \n",
    "def main():\n",
    "    try:\n",
    "        fun2()\n",
    "    except ValueError as e:\n",
    "        print(e)\n",
    "        \n",
    "main()"
   ]
  }
 ],
 "metadata": {
  "kernelspec": {
   "display_name": "Python 3",
   "language": "python",
   "name": "python3"
  },
  "language_info": {
   "codemirror_mode": {
    "name": "ipython",
    "version": 3
   },
   "file_extension": ".py",
   "mimetype": "text/x-python",
   "name": "python",
   "nbconvert_exporter": "python",
   "pygments_lexer": "ipython3",
   "version": "3.11.4"
  },
  "orig_nbformat": 4
 },
 "nbformat": 4,
 "nbformat_minor": 2
}
