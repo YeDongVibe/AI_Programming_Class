{
 "cells": [
  {
   "cell_type": "markdown",
   "metadata": {},
   "source": [
    "# Class"
   ]
  },
  {
   "cell_type": "code",
   "execution_count": 1,
   "metadata": {},
   "outputs": [
    {
     "name": "stdout",
     "output_type": "stream",
     "text": [
      "Width: 4\n",
      "Height: 5\n"
     ]
    }
   ],
   "source": [
    "import classes.rectangle as re\n",
    "\n",
    "r = re.Rectangle(4,5)\n",
    "print(r)"
   ]
  },
  {
   "cell_type": "code",
   "execution_count": 4,
   "metadata": {},
   "outputs": [
    {
     "name": "stdout",
     "output_type": "stream",
     "text": [
      "\n",
      "NAME\tGRADE\n",
      "tr\tF\n"
     ]
    }
   ],
   "source": [
    "import classes.lgStudent as ls\n",
    "\n",
    "def main():\n",
    "    listOfStudents = []\n",
    "    carryOn = \"Y\"\n",
    "    while (carryOn == 'Y'):\n",
    "        name = input(\"Enter student's name : \")\n",
    "        midterm = float(input(\"Enter grade on midterm exam: \"))\n",
    "        final = float(input(\"ENter grade on final exam : \"))\n",
    "        \n",
    "        st = ls.LGstudent(name, midterm, final)\n",
    "        listOfStudents.append(st)\n",
    "        carryOn = input(\"Do you want to containue (Y/N)? \")\n",
    "        carryOn = carryOn.upper()\n",
    "    print(\"\\nNAME\\tGRADE\")\n",
    "    for pupil in listOfStudents:\n",
    "        print(pupil)\n",
    "        \n",
    "main()"
   ]
  },
  {
   "cell_type": "markdown",
   "metadata": {},
   "source": [
    "# Inheritance\n",
    "- 상위 클래스의 특성(변수, 매서드 등)을 받아 사용\n",
    "- 하위 클래스에서 상위 클래스의 내용을 재정의(overriding) 가능"
   ]
  },
  {
   "cell_type": "code",
   "execution_count": 5,
   "metadata": {},
   "outputs": [
    {
     "name": "stdout",
     "output_type": "stream",
     "text": [
      "\n",
      "NAME\tGRADE\n",
      "knn\tFail\n"
     ]
    }
   ],
   "source": [
    "import classes.student as stt\n",
    "\n",
    "def main():\n",
    "    listOfStudents = obtainListOfStudents()\n",
    "    displayResults(listOfStudents)\n",
    "    \n",
    "def obtainListOfStudents():\n",
    "    listOfStudents = []\n",
    "    carryOn = \"Y\"\n",
    "    while (carryOn == 'Y'):\n",
    "        name = input(\"Enter student's name : \")\n",
    "        midterm = float(input(\"Enter grade on midterm exam: \"))\n",
    "        final = float(input(\"ENter grade on final exam : \"))\n",
    "        category = input(\"Enter category (LG or PF) : \")\n",
    "        if (category.upper() == \"LG\"):\n",
    "            st = stt.PFstudent(name, midterm, final)\n",
    "        else:\n",
    "            st = stt.PFstudent(name, midterm, final)\n",
    "        listOfStudents.append(st)\n",
    "        carryOn = input(\"Do you want to containue (Y/N)? \")\n",
    "        carryOn = carryOn.upper()\n",
    "    return listOfStudents\n",
    "\n",
    "def displayResults(listOfSutents):\n",
    "    print(\"\\nNAME\\tGRADE\")\n",
    "    listOfSutents.sort(key = lambda x: x.getName())\n",
    "    for pupil in listOfSutents:\n",
    "        print(pupil)\n",
    "        \n",
    "main()"
   ]
  },
  {
   "cell_type": "code",
   "execution_count": 20,
   "metadata": {},
   "outputs": [
    {
     "name": "stdout",
     "output_type": "stream",
     "text": [
      "Park\tD\n",
      "Lee\tPass\n"
     ]
    }
   ],
   "source": [
    "import classes.student as stt\n",
    "\n",
    "stu = stt.Student(\"Kim\", 10, 20)\n",
    "lgstu = stt.LGstudent(\"Park\", 50, 80)\n",
    "pfstu = stt.PFstudent(\"Lee\", 40, 90)\n",
    "\n",
    "\n",
    "print(lgstu)\n",
    "print(pfstu)\n",
    "\n",
    "# stt.PFstudent.do_something()\n",
    "#print(stu)"
   ]
  },
  {
   "cell_type": "markdown",
   "metadata": {},
   "source": [
    "# is-a Relationship"
   ]
  },
  {
   "cell_type": "code",
   "execution_count": 23,
   "metadata": {},
   "outputs": [
    {
     "name": "stdout",
     "output_type": "stream",
     "text": [
      "True\n",
      "True\n",
      "True\n"
     ]
    }
   ],
   "source": [
    "print(isinstance(lgstu, stt.LGstudent))\n",
    "print(isinstance(pfstu, stt.PFstudent))\n",
    "print(isinstance(lgstu, stt.Student))"
   ]
  },
  {
   "cell_type": "markdown",
   "metadata": {},
   "source": [
    "# Adding New Instance Variables to a Subclass\n",
    "- 하위클래스에서 상속받은 initializer method는 반드시 self를 붙여야함"
   ]
  },
  {
   "cell_type": "code",
   "execution_count": 6,
   "metadata": {},
   "outputs": [
    {
     "name": "stdout",
     "output_type": "stream",
     "text": [
      "I am a parent\n",
      "I am a child\n",
      "I am a parent\n",
      "temp parent\n",
      "temp child\n"
     ]
    }
   ],
   "source": [
    "class Parent:\n",
    "    def __init__(self):\n",
    "        self._parent = 'I am a parent'\n",
    "        self._temp = 'temp parent'\n",
    "        \n",
    "class Child(Parent):\n",
    "    def __init__(self):\n",
    "        super().__init__() # 이것이 있어야지 Parent의 initializer를 사용 가능! / 여기에 두면 상속을 받은 내용이 적용되지만\n",
    "        self._child = 'I am a child'\n",
    "        self._temp = 'temp child'\n",
    "        # super().__init__() # 이것이 있어야지 Parent의 initializer를 사용 가능! / 여기에 두면 이전의 코드가 먼저 실행이 되기에 상속 내용이 적용되지 않을 수도 있다\n",
    "        \n",
    "p = Parent()\n",
    "c = Child()\n",
    "\n",
    "print(p._parent)\n",
    "print(c._child)\n",
    "print(c._parent)\n",
    "print(p._temp)\n",
    "print(c._temp)"
   ]
  },
  {
   "cell_type": "markdown",
   "metadata": {},
   "source": [
    "# Multiple Inheritance"
   ]
  },
  {
   "cell_type": "code",
   "execution_count": 17,
   "metadata": {},
   "outputs": [
    {
     "ename": "TypeError",
     "evalue": "Cannot create a consistent method resolution\norder (MRO) for bases A, B",
     "output_type": "error",
     "traceback": [
      "\u001b[1;31m---------------------------------------------------------------------------\u001b[0m",
      "\u001b[1;31mTypeError\u001b[0m                                 Traceback (most recent call last)",
      "Cell \u001b[1;32mIn[17], line 27\u001b[0m\n\u001b[0;32m     24\u001b[0m \u001b[39mclass\u001b[39;00m \u001b[39mJ\u001b[39;00m(H, I):\n\u001b[0;32m     25\u001b[0m     \u001b[39mpass\u001b[39;00m\n\u001b[1;32m---> 27\u001b[0m \u001b[39mclass\u001b[39;49;00m \u001b[39mK\u001b[39;49;00m(C,D):\n\u001b[0;32m     28\u001b[0m     \u001b[39mpass\u001b[39;49;00m\n\u001b[0;32m     30\u001b[0m A\u001b[39m.\u001b[39mprint()\n",
      "\u001b[1;31mTypeError\u001b[0m: Cannot create a consistent method resolution\norder (MRO) for bases A, B"
     ]
    }
   ],
   "source": [
    "class A:\n",
    "    def print():\n",
    "        print(\"I am A\")\n",
    "class B:\n",
    "    def print():\n",
    "        print(\"I am B\")\n",
    "class C(A, B): # 다중상속 시 좌측에 위치한 인자?가 우선순위가 되어 호출됨.\n",
    "    pass\n",
    "class D(B, A):\n",
    "    pass\n",
    "class E(A, B):\n",
    "    def print():\n",
    "        print(\"I am E\") # 내부에 정의된 것이 있으면 상속보다 우선순위가 높아 먼저 동작.\n",
    "class F:\n",
    "    def print():\n",
    "        print(\"I am F\")\n",
    "class G:\n",
    "    def print():\n",
    "        print(\"I am G\")\n",
    "class H(F, G):\n",
    "    pass\n",
    "class I(E):\n",
    "    pass\n",
    "class J(H, I):\n",
    "    pass\n",
    "\n",
    "# class K(C,D): # C와 D가 동일한 부모 클래스라서 동작 불가\n",
    "#     pass\n",
    "\n",
    "A.print()\n",
    "B.print()\n",
    "C.print()\n",
    "D.print()\n",
    "E.print()\n",
    "F.print()\n",
    "G.print()\n",
    "H.print()\n",
    "I.print()\n",
    "J.print()\n",
    "K.print()\n",
    "print(J.__mro__) # __mro__ : 상속받는 혹은 매서드를 찾아갈 떄의 순서를 출력함"
   ]
  }
 ],
 "metadata": {
  "kernelspec": {
   "display_name": "Python 3",
   "language": "python",
   "name": "python3"
  },
  "language_info": {
   "codemirror_mode": {
    "name": "ipython",
    "version": 3
   },
   "file_extension": ".py",
   "mimetype": "text/x-python",
   "name": "python",
   "nbconvert_exporter": "python",
   "pygments_lexer": "ipython3",
   "version": "3.11.4"
  },
  "orig_nbformat": 4
 },
 "nbformat": 4,
 "nbformat_minor": 2
}
