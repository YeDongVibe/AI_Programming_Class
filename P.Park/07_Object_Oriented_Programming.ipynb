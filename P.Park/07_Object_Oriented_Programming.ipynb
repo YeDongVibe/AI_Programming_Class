{
 "cells": [
  {
   "cell_type": "markdown",
   "metadata": {},
   "source": [
    "# Class"
   ]
  },
  {
   "cell_type": "code",
   "execution_count": 1,
   "metadata": {},
   "outputs": [
    {
     "name": "stdout",
     "output_type": "stream",
     "text": [
      "Width: 4\n",
      "Height: 5\n"
     ]
    }
   ],
   "source": [
    "import classes.rectangle as re\n",
    "\n",
    "r = re.Rectangle(4,5)\n",
    "print(r)"
   ]
  },
  {
   "cell_type": "code",
   "execution_count": 4,
   "metadata": {},
   "outputs": [
    {
     "name": "stdout",
     "output_type": "stream",
     "text": [
      "\n",
      "NAME\tGRADE\n",
      "tr\tF\n"
     ]
    }
   ],
   "source": [
    "import classes.lgStudent as ls\n",
    "\n",
    "def main():\n",
    "    listOfStudents = []\n",
    "    carryOn = \"Y\"\n",
    "    while (carryOn == 'Y'):\n",
    "        name = input(\"Enter student's name : \")\n",
    "        midterm = float(input(\"Enter grade on midterm exam: \"))\n",
    "        final = float(input(\"ENter grade on final exam : \"))\n",
    "        \n",
    "        st = ls.LGstudent(name, midterm, final)\n",
    "        listOfStudents.append(st)\n",
    "        carryOn = input(\"Do you want to containue (Y/N)? \")\n",
    "        carryOn = carryOn.upper()\n",
    "    print(\"\\nNAME\\tGRADE\")\n",
    "    for pupil in listOfStudents:\n",
    "        print(pupil)\n",
    "        \n",
    "main()"
   ]
  },
  {
   "cell_type": "markdown",
   "metadata": {},
   "source": [
    "# Inheritance\n",
    "- 상위 클래스의 특성(변수, 매서드 등)을 받아 사용\n",
    "- 하위 클래스에서 상위 클래스의 내용을 재정의(overriding) 가능"
   ]
  },
  {
   "cell_type": "code",
   "execution_count": 5,
   "metadata": {},
   "outputs": [
    {
     "name": "stdout",
     "output_type": "stream",
     "text": [
      "\n",
      "NAME\tGRADE\n",
      "knn\tFail\n"
     ]
    }
   ],
   "source": [
    "import classes.student as stt\n",
    "\n",
    "def main():\n",
    "    listOfStudents = obtainListOfStudents()\n",
    "    displayResults(listOfStudents)\n",
    "    \n",
    "def obtainListOfStudents():\n",
    "    listOfStudents = []\n",
    "    carryOn = \"Y\"\n",
    "    while (carryOn == 'Y'):\n",
    "        name = input(\"Enter student's name : \")\n",
    "        midterm = float(input(\"Enter grade on midterm exam: \"))\n",
    "        final = float(input(\"ENter grade on final exam : \"))\n",
    "        category = input(\"Enter category (LG or PF) : \")\n",
    "        if (category.upper() == \"LG\"):\n",
    "            st = stt.PFstudent(name, midterm, final)\n",
    "        else:\n",
    "            st = stt.PFstudent(name, midterm, final)\n",
    "        listOfStudents.append(st)\n",
    "        carryOn = input(\"Do you want to containue (Y/N)? \")\n",
    "        carryOn = carryOn.upper()\n",
    "    return listOfStudents\n",
    "\n",
    "def displayResults(listOfSutents):\n",
    "    print(\"\\nNAME\\tGRADE\")\n",
    "    listOfSutents.sort(key = lambda x: x.getName())\n",
    "    for pupil in listOfSutents:\n",
    "        print(pupil)\n",
    "        \n",
    "main()"
   ]
  },
  {
   "cell_type": "code",
   "execution_count": 14,
   "metadata": {},
   "outputs": [
    {
     "name": "stdout",
     "output_type": "stream",
     "text": [
      "Park\tD\n",
      "Lee\tPass\n"
     ]
    }
   ],
   "source": [
    "import classes.student as stt\n",
    "\n",
    "#stu = stt.Student(\"Kim\", 10, 20)\n",
    "lgstu = stt.LGstudent(\"Park\", 50, 80)\n",
    "pfstu = stt.PFstudent(\"Lee\", 40, 90)\n",
    "\n",
    "\n",
    "print(lgstu)\n",
    "print(pfstu)\n",
    "\n",
    "#print(stu)"
   ]
  }
 ],
 "metadata": {
  "kernelspec": {
   "display_name": "Python 3",
   "language": "python",
   "name": "python3"
  },
  "language_info": {
   "codemirror_mode": {
    "name": "ipython",
    "version": 3
   },
   "file_extension": ".py",
   "mimetype": "text/x-python",
   "name": "python",
   "nbconvert_exporter": "python",
   "pygments_lexer": "ipython3",
   "version": "3.11.4"
  },
  "orig_nbformat": 4
 },
 "nbformat": 4,
 "nbformat_minor": 2
}
