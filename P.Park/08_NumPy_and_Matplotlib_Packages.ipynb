{
 "cells": [
  {
   "cell_type": "markdown",
   "metadata": {},
   "source": [
    "# numpy\n",
    "- 행렬을 구성할 떄 마지막수(위치)부터 채워짐 <ex : a = b.reshape(2,3,4) : 3행 2열짜리를 총 4개 만듬>\n",
    "- np.floor : 내림\n",
    "- np.ceil : 버림\n",
    "- np.std : 통계적 값\n",
    "- @ 연산자 : 행렬곱"
   ]
  }
 ],
 "metadata": {
  "language_info": {
   "name": "python"
  },
  "orig_nbformat": 4
 },
 "nbformat": 4,
 "nbformat_minor": 2
}
