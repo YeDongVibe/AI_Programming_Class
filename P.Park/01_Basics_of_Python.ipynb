{
 "cells": [
  {
   "cell_type": "code",
   "execution_count": 1,
   "metadata": {},
   "outputs": [
    {
     "name": "stdout",
     "output_type": "stream",
     "text": [
      "2\n"
     ]
    }
   ],
   "source": [
    "#'_' 만 변수로 사용 가능\n",
    "_ = 2\n",
    "print(_)"
   ]
  },
  {
   "cell_type": "code",
   "execution_count": 5,
   "metadata": {},
   "outputs": [
    {
     "data": {
      "text/plain": [
       "0"
      ]
     },
     "execution_count": 5,
     "metadata": {},
     "output_type": "execute_result"
    }
   ],
   "source": [
    "#garbage colllection 확인 하는 법\n",
    "import gc\n",
    "gc.collect()"
   ]
  },
  {
   "cell_type": "code",
   "execution_count": 6,
   "metadata": {},
   "outputs": [
    {
     "name": "stdout",
     "output_type": "stream",
     "text": [
      "He said \"I'm an Iron Man\"\n"
     ]
    }
   ],
   "source": [
    "str = 'He said \"I\\'m an Iron Man\"'\n",
    "print(str)"
   ]
  },
  {
   "cell_type": "code",
   "execution_count": 9,
   "metadata": {},
   "outputs": [
    {
     "name": "stdout",
     "output_type": "stream",
     "text": [
      "abc\n",
      "def\n",
      "ghi\n",
      "jkl\n"
     ]
    }
   ],
   "source": [
    "#줄바꿈\n",
    "## case 1\n",
    "print('abc\\ndef')\n",
    "## case 2\n",
    "s = \"\"\"ghi\n",
    "jkl\"\"\"\n",
    "\n",
    "print(s)"
   ]
  },
  {
   "cell_type": "code",
   "execution_count": 11,
   "metadata": {},
   "outputs": [
    {
     "name": "stdout",
     "output_type": "stream",
     "text": [
      "goodbye\n",
      "ababab\n",
      "aaabbb\n",
      "hahaha\n",
      "cha-cha-Cha\n"
     ]
    }
   ],
   "source": [
    "print('good' + 'bye')\n",
    "print(('a' + 'b') * 3)\n",
    "print('a' * 3 + 'b' * 3)\n",
    "print('ha' * 3)\n",
    "print(\"cha-\" * 2 + \"Cha\") \n",
    "## 우선은 문자열의 경우, 더하고 곱하는 것만 가능"
   ]
  },
  {
   "cell_type": "code",
   "execution_count": 20,
   "metadata": {},
   "outputs": [
    {
     "name": "stdout",
     "output_type": "stream",
     "text": [
      "2\n",
      "3\n",
      "5\n",
      "None\n",
      "5\n"
     ]
    },
    {
     "data": {
      "text/plain": [
       "int"
      ]
     },
     "execution_count": 20,
     "metadata": {},
     "output_type": "execute_result"
    }
   ],
   "source": [
    "exec('x = 2')\n",
    "exec('y = 3')\n",
    "eval('x + y')\n",
    "exec('x + y')\n",
    "z1 = eval('x + y')\n",
    "z2 = exec('x + y')\n",
    "exec('z3 = x + y') #z3에 x + y 한 것을 실행하라!!\n",
    "print(x)\n",
    "print(y)\n",
    "print(z1)\n",
    "print(z2) #아무 값이 없이 나온다. exec('x + y')이거는 돌려주는 값이 없어서 값이 나오지 않는다.\n",
    "print(z3)"
   ]
  },
  {
   "cell_type": "code",
   "execution_count": 28,
   "metadata": {},
   "outputs": [
    {
     "data": {
      "text/plain": [
       "'abc'"
      ]
     },
     "execution_count": 28,
     "metadata": {},
     "output_type": "execute_result"
    }
   ],
   "source": [
    "str1 = 'Python'\n",
    "str1.upper()\n",
    "str1\n",
    "# str1을 upper하더라도 str1 자체가 변하는 것은 아니다.\n",
    "str1.count('th')\n",
    "'coDE'.capitalize()\n",
    "'abc      '.rstrip() #오른쪽에 있는 빈칸을 없애줌\n",
    "'    ab     '.strip() #문자열 내에 있는 빈칸을 없애줌"
   ]
  },
  {
   "cell_type": "code",
   "execution_count": 29,
   "metadata": {},
   "outputs": [
    {
     "data": {
      "text/plain": [
       "6"
      ]
     },
     "execution_count": 29,
     "metadata": {},
     "output_type": "execute_result"
    }
   ],
   "source": [
    "str1 = 'Hello World'\n",
    "str1.find('W')"
   ]
  },
  {
   "cell_type": "code",
   "execution_count": 32,
   "metadata": {},
   "outputs": [
    {
     "name": "stdout",
     "output_type": "stream",
     "text": [
      "Swaroop was 20 years old when he wrote the book\n",
      "A Byte of Python\n",
      "Why is Swaroop playing with that 20 python?\n"
     ]
    }
   ],
   "source": [
    "age = 20\n",
    "name = 'Swaroop'\n",
    "\n",
    "print('''{0} was {1} years old when he wrote the book\n",
    "A Byte of Python'''.format(name, age))\n",
    "print('Why is {1} playing with that {0} python?'.format(age, name))"
   ]
  },
  {
   "cell_type": "code",
   "execution_count": 34,
   "metadata": {},
   "outputs": [
    {
     "name": "stdout",
     "output_type": "stream",
     "text": [
      "   1234.57\n",
      "  1,234.57\n",
      " 1,234.568\n",
      "123,456.78%\n",
      "123,456.780%\n",
      "12,345,678\n"
     ]
    }
   ],
   "source": [
    "print('{0:10.2f}'.format(1234.5678))\n",
    "print('{0:10,.2f}'.format(1234.5678))\n",
    "print('{0:10,.3f}'.format(1234.5678))\n",
    "print('{0:10,.2%}'.format(1234.5678))\n",
    "print('{0:10,.3%}'.format(1234.5678))\n",
    "print('{0:10,}'.format(12345678))"
   ]
  },
  {
   "cell_type": "code",
   "execution_count": 35,
   "metadata": {},
   "outputs": [
    {
     "name": "stdout",
     "output_type": "stream",
     "text": [
      "How can you prevent \\n from being printed\n"
     ]
    }
   ],
   "source": [
    "#문장 앞에 r 사용시, 개행문자 같은거도 다 출력이 됨\n",
    "print(r'How can you prevent \\n from being printed')"
   ]
  },
  {
   "cell_type": "code",
   "execution_count": 37,
   "metadata": {},
   "outputs": [
    {
     "name": "stdout",
     "output_type": "stream",
     "text": [
      "10\n"
     ]
    }
   ],
   "source": [
    "#정수면 정수가 나오고 소수면 소수가 나오게 하고 싶은경우\n",
    "value = eval(input('Enter any numbers: '))\n",
    "\n",
    "eval('10')\n",
    "eval('12.45')\n",
    "print(value)"
   ]
  },
  {
   "cell_type": "code",
   "execution_count": 38,
   "metadata": {},
   "outputs": [
    {
     "name": "stdout",
     "output_type": "stream",
     "text": [
      "Last name:  Park\n",
      "First name(s):  Suhyun\n"
     ]
    }
   ],
   "source": [
    "fullName = input('Enter a full name: ')\n",
    "n = fullName.rfind(' ')\n",
    "print('Last name: ', fullName[n+1:])\n",
    "print('First name(s): ', fullName[:n])"
   ]
  },
  {
   "cell_type": "code",
   "execution_count": 47,
   "metadata": {},
   "outputs": [
    {
     "name": "stdout",
     "output_type": "stream",
     "text": [
      "The area of Texas is 2,688,111,120 square miles\n",
      "The population of Texas is 8.56% of the U.S. population.\n"
     ]
    }
   ],
   "source": [
    "print('The area of {0} is {1:,} square miles'.format('Texas', 2688111120))\n",
    "str1 = 'The population of {0} is {1:.2%} of \\\n",
    "the U.S. population.'\n",
    "print(str1.format('Texas', 26448000. / 309000000))"
   ]
  }
 ],
 "metadata": {
  "kernelspec": {
   "display_name": "Python 3",
   "language": "python",
   "name": "python3"
  },
  "language_info": {
   "codemirror_mode": {
    "name": "ipython",
    "version": 3
   },
   "file_extension": ".py",
   "mimetype": "text/x-python",
   "name": "python",
   "nbconvert_exporter": "python",
   "pygments_lexer": "ipython3",
   "version": "3.11.4"
  },
  "orig_nbformat": 4
 },
 "nbformat": 4,
 "nbformat_minor": 2
}
