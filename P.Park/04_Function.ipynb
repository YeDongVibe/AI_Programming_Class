{
 "cells": [
  {
   "cell_type": "code",
   "execution_count": 2,
   "metadata": {},
   "outputs": [
    {
     "name": "stdout",
     "output_type": "stream",
     "text": [
      "Help on function mat in module __main__:\n",
      "\n",
      "mat(a)\n",
      "    이것은 함수입니다.\n",
      "\n"
     ]
    }
   ],
   "source": [
    "def mat(a) : \n",
    "    \"\"\"이것은 함수입니다.\n",
    "    \"\"\"\n",
    "    pass\n",
    "\n",
    "    \n",
    "help(mat)"
   ]
  },
  {
   "cell_type": "markdown",
   "metadata": {},
   "source": [
    "# 변수의 범위(Scope of Variables)\n",
    "* Global variable(전역 변수): 우리가 실행하는 \"프로그램\"\n",
    "* Local variable: 함수 안에서 만들어진 변수"
   ]
  },
  {
   "cell_type": "code",
   "execution_count": null,
   "metadata": {},
   "outputs": [],
   "source": [
    "x = 50\n",
    "y = 20\n",
    "\n",
    "def main():\n",
    "    func()\n",
    "    print(\"x: \", x)\n",
    "\n",
    "def func():\n",
    "    global x, y    # 글로벌 변수임을 알린다.\n",
    "    print('x is ', x)\n",
    "    x = 10\n",
    "    print('x is now ', x)\n",
    "\n",
    "print('Global x before mian: ', x)\n",
    "main()\n",
    "print('Global x after main: ', x)"
   ]
  },
  {
   "cell_type": "code",
   "execution_count": null,
   "metadata": {},
   "outputs": [],
   "source": [
    "pi = 3.14159265\n",
    "r = int(input('반지름을 입력하세요 : '))\n",
    "periphery = 2*r*pi\n",
    "are = pi*r*r"
   ]
  },
  {
   "cell_type": "code",
   "execution_count": 3,
   "metadata": {},
   "outputs": [
    {
     "name": "stdout",
     "output_type": "stream",
     "text": [
      "Sorted by length in ascending order : \n",
      "['two', 'brrr', 'break', 'equals', 'sequooa', 'democratic'] \n",
      "\n",
      "Sorted by number of vowels in descending order : \n",
      "['sequooa', 'democratic', 'equals', 'break', 'two', 'brrr']\n"
     ]
    }
   ],
   "source": [
    "def main():\n",
    "    list1 = ['democratic', 'sequooa', 'equals', 'brrr', 'break', 'two']\n",
    "    list1.sort(key=len) #사전순으로 / 길이순으로 정렬\n",
    "    print('Sorted by length in ascending order : ')\n",
    "    print(list1,  '\\n')\n",
    "    list1.sort(key=numberOfVowels, reverse=True) # 모음의 갯수로 정렬\n",
    "    print('Sorted by number of vowels in descending order : ')\n",
    "    print(list1)\n",
    "    \n",
    "def numberOfVowels(word):\n",
    "    vowels = ('a', 'e', 'i', 'o', 'u')\n",
    "    total = 0\n",
    "    for vowel in vowels:\n",
    "        total += word.lower().count(vowel) # 단어속에 모음의 수를 반환\n",
    "    return total\n",
    "\n",
    "main()"
   ]
  },
  {
   "cell_type": "markdown",
   "metadata": {},
   "source": [
    "# Sort(정렬)\n",
    "* sort : lists에서 사용\n",
    "* sorted : list, string, tuple에서 사용"
   ]
  },
  {
   "cell_type": "code",
   "execution_count": 8,
   "metadata": {},
   "outputs": [
    {
     "name": "stdout",
     "output_type": "stream",
     "text": [
      "list2 :  ['blue', 'red', 'white']\n",
      "sorted list1 reverse :  ['white', 'red', 'blue']\n",
      "sorted list1 key :  ['red', 'blue', 'white']\n",
      "list1 :  ['white', 'blue', 'red']\n",
      "sorted :  ['a', 'm', 'p', 's']\n"
     ]
    }
   ],
   "source": [
    "list1 = ['white', 'blue', 'red']\n",
    "list2 = sorted(list1)\n",
    "print('list2 : ', list2)\n",
    "print('sorted list1 reverse : ', sorted(list1, reverse=True))\n",
    "print('sorted list1 key : ', sorted(list1, key=len))\n",
    "print('list1 : ', list1)\n",
    "print('sorted : ', sorted('spam'))"
   ]
  },
  {
   "cell_type": "markdown",
   "metadata": {},
   "source": [
    "# library module\n",
    "* 함수나 변수를 가져다 쓸 수 있도록 정의 되어 있다.\n",
    "* 우리가 만든 파일도 하나의 라이브러리, 파일\n",
    "* import module\n",
    "* 모듈이라는 것은 덩어리\n",
    "* 함수이름 앞에다가 .(period) 붙여서 불러서 사용하면 됨\n",
    "* import 하는 방법\n",
    " 1. from random import randint, choice\n",
    " 2. from random import * -> random.add 이렇게 사용 가능\n",
    " 3. import random -> add라고 그냥 사용 가능\n",
    " 4. import random as rd -> 별칭 지정\n",
    "\n",
    "\n",
    " ** pdb : 디버깅용 library -> 중간에 import 가능하기에 알고싶은 곳에 배치해 디버깅하면 알 수 있음\n",
    "\n",
    " ** 모듈을 여러개 모은것이 library, library를 여러개 모은것이 framework\n"
   ]
  },
  {
   "cell_type": "markdown",
   "metadata": {},
   "source": [
    "# List Comprehension\n",
    "* 새로운 리스트를 만들기 위해 사용(반복을 진행하면서)"
   ]
  },
  {
   "cell_type": "code",
   "execution_count": 15,
   "metadata": {},
   "outputs": [
    {
     "name": "stdout",
     "output_type": "stream",
     "text": [
      "int(x) for x in list1 :  [2, 5, 6, 7]\n",
      "int(x) for x in list1 :  [2, 5, 6, 7]\n",
      "g(x) for x in list1 :  [4, 25, 36, 49]\n",
      "g(x) for x in list1 if int(x) % 2 == 1 :  [25, 49]\n"
     ]
    }
   ],
   "source": [
    "list1 = ['2', '5', '6', '7']\n",
    "[int(x) for x in list1]\n",
    "print('int(x) for x in list1 : ', [int(x) for x in list1])\n",
    "print('int(x) for x in list1 : ', list(int(x) for x in list1))\n",
    "def g(x) : \n",
    "    return(int (x) ** 2)\n",
    "print('g(x) for x in list1 : ', [g(x) for x in list1])\n",
    "print('g(x) for x in list1 if int(x) % 2 == 1 : ', [g(x) for x in list1 if int(x) % 2 == 1]) # 조건문도 추가가능"
   ]
  },
  {
   "cell_type": "code",
   "execution_count": 17,
   "metadata": {},
   "outputs": [
    {
     "name": "stdout",
     "output_type": "stream",
     "text": [
      "65\n",
      "A\n"
     ]
    }
   ],
   "source": [
    "print(ord('A')) # 아스키코드 값으로\n",
    "print(chr(65)) # 값을 아스키코드로"
   ]
  },
  {
   "cell_type": "markdown",
   "metadata": {},
   "source": [
    "# default Arguments"
   ]
  },
  {
   "cell_type": "code",
   "execution_count": 23,
   "metadata": {},
   "outputs": [
    {
     "name": "stdout",
     "output_type": "stream",
     "text": [
      "Hello\n",
      "WorldWorldWorldWorldWorld\n"
     ]
    }
   ],
   "source": [
    "def main():\n",
    "    say('Hello')\n",
    "    say('World', 5)\n",
    "    \n",
    "def say(message, times=1):\n",
    "    print(message*times)\n",
    "    \n",
    "main()"
   ]
  },
  {
   "cell_type": "markdown",
   "metadata": {},
   "source": [
    "# keyword Arguments"
   ]
  },
  {
   "cell_type": "code",
   "execution_count": 24,
   "metadata": {},
   "outputs": [
    {
     "name": "stdout",
     "output_type": "stream",
     "text": [
      "a is :  3 and b is :  7 and c is :  10\n",
      "a is :  25 and b is :  5 and c is :  24\n",
      "a is :  100 and b is :  5 and c is :  50\n"
     ]
    }
   ],
   "source": [
    "def main():\n",
    "    func(3, 7)\n",
    "    func(25, c=24)\n",
    "    func(c=50, a=100) # 위치를 바꾸고 싶을때는 명시해줘야 하지만 굳이...?\n",
    "def func(a, b=5, c=10):\n",
    "    print('a is : ', a, 'and b is : ', b, 'and c is : ', c)\n",
    "main()"
   ]
  },
  {
   "cell_type": "markdown",
   "metadata": {},
   "source": [
    "# Lambda Expression\n",
    "* lambda 입력1, 입력2, ..., 수행할 동작"
   ]
  },
  {
   "cell_type": "code",
   "execution_count": 25,
   "metadata": {},
   "outputs": [
    {
     "name": "stdout",
     "output_type": "stream",
     "text": [
      "John Backus, james Gosling, Alan Kay, Dennis Ritchile\n"
     ]
    }
   ],
   "source": [
    "names = ['Dennis Ritchile', 'Alan Kay', 'John Backus', 'james Gosling']\n",
    "names.sort(key=lambda name: name.split()[-1]) # 성을 기준으로 정렬\n",
    "nameString = ', '.join(names)\n",
    "print(nameString)"
   ]
  }
 ],
 "metadata": {
  "kernelspec": {
   "display_name": "Python 3",
   "language": "python",
   "name": "python3"
  },
  "language_info": {
   "codemirror_mode": {
    "name": "ipython",
    "version": 3
   },
   "file_extension": ".py",
   "mimetype": "text/x-python",
   "name": "python",
   "nbconvert_exporter": "python",
   "pygments_lexer": "ipython3",
   "version": "3.11.4"
  },
  "orig_nbformat": 4
 },
 "nbformat": 4,
 "nbformat_minor": 2
}
