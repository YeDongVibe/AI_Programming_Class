{
 "cells": [
  {
   "attachments": {},
   "cell_type": "markdown",
   "metadata": {},
   "source": [
    "Exercise 2.2"
   ]
  },
  {
   "cell_type": "code",
   "execution_count": 7,
   "metadata": {},
   "outputs": [
    {
     "name": "stdout",
     "output_type": "stream",
     "text": [
      "What you don't owe won't hurt you.\n"
     ]
    }
   ],
   "source": [
    "s = input('Enter a sentence : ')\n",
    "r = input('Enter word to replace : ')\n",
    "k = input('Enter replacement word : ')\n",
    "\n",
    "st = str(s.replace(r, k))\n",
    "print(st)\n"
   ]
  },
  {
   "cell_type": "code",
   "execution_count": 6,
   "metadata": {},
   "outputs": [
    {
     "name": "stdout",
     "output_type": "stream",
     "text": [
      "banana banana banana banana\n"
     ]
    }
   ],
   "source": [
    "s = input('Enter a sentence : ')\n",
    "r = input('Enter word to replace : ')\n",
    "k = input('Enter replacement word : ')\n",
    "\n",
    "words = s.split()\n",
    "st = []\n",
    "for i in words:\n",
    "    if (i == r):\n",
    "        i = k\n",
    "    st.append(k)\n",
    "st = ' '.join(st)\n",
    "print(st)\n"
   ]
  },
  {
   "attachments": {},
   "cell_type": "markdown",
   "metadata": {},
   "source": [
    "Exercise 2.3"
   ]
  },
  {
   "cell_type": "code",
   "execution_count": 12,
   "metadata": {},
   "outputs": [
    {
     "name": "stdout",
     "output_type": "stream",
     "text": [
      "$ 7,903.15\n"
     ]
    }
   ],
   "source": [
    "f = int(input('Enter future value : '))\n",
    "r = int(input('Enter interest rate : '))\n",
    "n = int(input('Enter number of years : '))\n",
    "\n",
    "res = f / (1+(r/100))**n\n",
    "\n",
    "print('$',format(round(res, 2), ','))"
   ]
  },
  {
   "cell_type": "markdown",
   "metadata": {},
   "source": [
    "Exercise 3.2"
   ]
  },
  {
   "cell_type": "code",
   "execution_count": 50,
   "metadata": {},
   "outputs": [
    {
     "name": "stdout",
     "output_type": "stream",
     "text": [
      "The word in Pig Latin is  IPCHay\n"
     ]
    }
   ],
   "source": [
    "w = input('Enter word to translate : ')\n",
    "\n",
    "idx = 0\n",
    "\n",
    "if w[0] in 'aeiouAEIOU' :\n",
    "    re = w + 'way'\n",
    "else : \n",
    "    idx = 0\n",
    "    for i in range(len(w)):\n",
    "        if w[i] in 'aeiouAEIOU':\n",
    "            re = w[i:] + w[:i] + 'ay'\n",
    "print('The word in Pig Latin is ',re)"
   ]
  },
  {
   "cell_type": "markdown",
   "metadata": {},
   "source": [
    "Exercise 3.3"
   ]
  },
  {
   "cell_type": "code",
   "execution_count": 56,
   "metadata": {},
   "outputs": [
    {
     "name": "stdout",
     "output_type": "stream",
     "text": [
      "Number of bounces:  13\n",
      "Meters traveled:  44.82\n"
     ]
    }
   ],
   "source": [
    "w = float(input('Enter coefficient of restitution : '))\n",
    "he = float(input('Enter initial height in meters : '))\n",
    "num = 1\n",
    "\n",
    "#공이 튕긴 전체 거리의 합\n",
    "dis = he\n",
    "\n",
    "while (he*w > 0.1) :\n",
    "    dis += he*w*2.0\n",
    "    num += 1\n",
    "    he *=  w\n",
    "    \n",
    "print('Number of bounces: ',num)\n",
    "print('Meters traveled: ', round(dis,2))"
   ]
  },
  {
   "cell_type": "markdown",
   "metadata": {},
   "source": [
    "Exercise 3.4"
   ]
  },
  {
   "cell_type": "code",
   "execution_count": 62,
   "metadata": {},
   "outputs": [
    {
     "name": "stdout",
     "output_type": "stream",
     "text": [
      "27,000,001 .\n"
     ]
    }
   ],
   "source": [
    "w = int(input('Enter number : '))\n",
    "res = 0\n",
    "for i in range(w+1):\n",
    "    re = str(i)\n",
    "    for an in re:\n",
    "        res += int(an)\n",
    "print(format(res ,','),'.')"
   ]
  },
  {
   "cell_type": "markdown",
   "metadata": {},
   "source": [
    "Exercise 4.1"
   ]
  },
  {
   "cell_type": "code",
   "execution_count": 31,
   "metadata": {},
   "outputs": [
    {
     "name": "stdout",
     "output_type": "stream",
     "text": [
      "3\n"
     ]
    }
   ],
   "source": [
    "def find(f, s):\n",
    "    lf = len(f)\n",
    "    ls = len(s)\n",
    "    count = 0\n",
    "    index = 0\n",
    "    \n",
    "    if ls == 0:\n",
    "        return lf + 1\n",
    "    \n",
    "    while (index+ls-1 < lf):\n",
    "        if(f[index:index+ls] == s):\n",
    "            count += 1\n",
    "            index += ls\n",
    "        else:\n",
    "            index += 1\n",
    "    return count\n",
    "       \n",
    "f = input('Enter the sentence: ')\n",
    "s = input('Enter the search sentence: ')  \n",
    "\n",
    "count = find(f,s)\n",
    "\n",
    "print(count)"
   ]
  },
  {
   "cell_type": "code",
   "execution_count": 12,
   "metadata": {},
   "outputs": [
    {
     "name": "stdout",
     "output_type": "stream",
     "text": [
      "2\n"
     ]
    }
   ],
   "source": [
    "w = input('Enter the sentence : ')\n",
    "q = input('Enter the find sentence : ')\n",
    "def find(w, q):\n",
    "    print(w.count(q))\n",
    "\n",
    "find(w,q)"
   ]
  },
  {
   "cell_type": "code",
   "execution_count": 39,
   "metadata": {},
   "outputs": [
    {
     "name": "stdout",
     "output_type": "stream",
     "text": [
      "New salary for a b: $50,160.00\n"
     ]
    }
   ],
   "source": [
    "def main():\n",
    "    w, q, s = get_input()\n",
    "    \n",
    "    print('New salary for {} {}: ${:,.2f}'.format(w, q, cal(s)))\n",
    "     \n",
    "def get_input():\n",
    "    w = input('Enter first name : ')\n",
    "    q = input('Enter last name : ')\n",
    "    s = float(input('Enter current salary : '))\n",
    "    \n",
    "    return w, q, s\n",
    "    \n",
    "\n",
    "def cal(s):\n",
    "    if(s < 40000) :\n",
    "        ns = s*1.05\n",
    "    else : \n",
    "        ns = s + 2000 + (s - 40000) * 0.02\n",
    "    return ns\n",
    "\n",
    "main()\n"
   ]
  }
 ],
 "metadata": {
  "kernelspec": {
   "display_name": "Python 3",
   "language": "python",
   "name": "python3"
  },
  "language_info": {
   "codemirror_mode": {
    "name": "ipython",
    "version": 3
   },
   "file_extension": ".py",
   "mimetype": "text/x-python",
   "name": "python",
   "nbconvert_exporter": "python",
   "pygments_lexer": "ipython3",
   "version": "3.11.4"
  },
  "orig_nbformat": 4
 },
 "nbformat": 4,
 "nbformat_minor": 2
}
