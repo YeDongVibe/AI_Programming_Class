{
 "cells": [
  {
   "attachments": {},
   "cell_type": "markdown",
   "metadata": {},
   "source": [
    "Exercise 2.2"
   ]
  },
  {
   "cell_type": "code",
   "execution_count": 7,
   "metadata": {},
   "outputs": [
    {
     "name": "stdout",
     "output_type": "stream",
     "text": [
      "What you don't owe won't hurt you.\n"
     ]
    }
   ],
   "source": [
    "s = input('Enter a sentence : ')\n",
    "r = input('Enter word to replace : ')\n",
    "k = input('Enter replacement word : ')\n",
    "\n",
    "st = str(s.replace(r, k))\n",
    "print(st)\n"
   ]
  },
  {
   "cell_type": "code",
   "execution_count": 6,
   "metadata": {},
   "outputs": [
    {
     "name": "stdout",
     "output_type": "stream",
     "text": [
      "banana banana banana banana\n"
     ]
    }
   ],
   "source": [
    "s = input('Enter a sentence : ')\n",
    "r = input('Enter word to replace : ')\n",
    "k = input('Enter replacement word : ')\n",
    "\n",
    "words = s.split()\n",
    "st = []\n",
    "for i in words:\n",
    "    if (i == r):\n",
    "        i = k\n",
    "    st.append(k)\n",
    "st = ' '.join(st)\n",
    "print(st)\n"
   ]
  },
  {
   "attachments": {},
   "cell_type": "markdown",
   "metadata": {},
   "source": [
    "Exercise 2.3"
   ]
  },
  {
   "cell_type": "code",
   "execution_count": 12,
   "metadata": {},
   "outputs": [
    {
     "name": "stdout",
     "output_type": "stream",
     "text": [
      "$ 7,903.15\n"
     ]
    }
   ],
   "source": [
    "f = int(input('Enter future value : '))\n",
    "r = int(input('Enter interest rate : '))\n",
    "n = int(input('Enter number of years : '))\n",
    "\n",
    "res = f / (1+(r/100))**n\n",
    "\n",
    "print('$',format(round(res, 2), ','))"
   ]
  },
  {
   "cell_type": "markdown",
   "metadata": {},
   "source": [
    "Exercise 3.2"
   ]
  },
  {
   "cell_type": "code",
   "execution_count": 50,
   "metadata": {},
   "outputs": [
    {
     "name": "stdout",
     "output_type": "stream",
     "text": [
      "The word in Pig Latin is  IPCHay\n"
     ]
    }
   ],
   "source": [
    "w = input('Enter word to translate : ')\n",
    "\n",
    "idx = 0\n",
    "\n",
    "if w[0] in 'aeiouAEIOU' :\n",
    "    re = w + 'way'\n",
    "else : \n",
    "    idx = 0\n",
    "    for i in range(len(w)):\n",
    "        if w[i] in 'aeiouAEIOU':\n",
    "            re = w[i:] + w[:i] + 'ay'\n",
    "print('The word in Pig Latin is ',re)"
   ]
  },
  {
   "cell_type": "markdown",
   "metadata": {},
   "source": [
    "Exercise 3.3"
   ]
  },
  {
   "cell_type": "code",
   "execution_count": 56,
   "metadata": {},
   "outputs": [
    {
     "name": "stdout",
     "output_type": "stream",
     "text": [
      "Number of bounces:  13\n",
      "Meters traveled:  44.82\n"
     ]
    }
   ],
   "source": [
    "w = float(input('Enter coefficient of restitution : '))\n",
    "he = float(input('Enter initial height in meters : '))\n",
    "num = 1\n",
    "\n",
    "#공이 튕긴 전체 거리의 합\n",
    "dis = he\n",
    "\n",
    "while (he*w > 0.1) :\n",
    "    dis += he*w*2.0\n",
    "    num += 1\n",
    "    he *=  w\n",
    "    \n",
    "print('Number of bounces: ',num)\n",
    "print('Meters traveled: ', round(dis,2))"
   ]
  },
  {
   "cell_type": "markdown",
   "metadata": {},
   "source": [
    "Exercise 3.4"
   ]
  },
  {
   "cell_type": "code",
   "execution_count": 62,
   "metadata": {},
   "outputs": [
    {
     "name": "stdout",
     "output_type": "stream",
     "text": [
      "27,000,001 .\n"
     ]
    }
   ],
   "source": [
    "w = int(input('Enter number : '))\n",
    "res = 0\n",
    "for i in range(w+1):\n",
    "    re = str(i)\n",
    "    for an in re:\n",
    "        res += int(an)\n",
    "print(format(res ,','),'.')"
   ]
  },
  {
   "cell_type": "markdown",
   "metadata": {},
   "source": [
    "Exercise 4.1"
   ]
  },
  {
   "cell_type": "code",
   "execution_count": 31,
   "metadata": {},
   "outputs": [
    {
     "name": "stdout",
     "output_type": "stream",
     "text": [
      "3\n"
     ]
    }
   ],
   "source": [
    "def find(f, s):\n",
    "    lf = len(f)\n",
    "    ls = len(s)\n",
    "    count = 0\n",
    "    index = 0\n",
    "    \n",
    "    if ls == 0:\n",
    "        return lf + 1\n",
    "    \n",
    "    while (index+ls-1 < lf):\n",
    "        if(f[index:index+ls] == s):\n",
    "            count += 1\n",
    "            index += ls\n",
    "        else:\n",
    "            index += 1\n",
    "    return count\n",
    "       \n",
    "f = input('Enter the sentence: ')\n",
    "s = input('Enter the search sentence: ')  \n",
    "\n",
    "count = find(f,s)\n",
    "\n",
    "print(count)"
   ]
  },
  {
   "cell_type": "code",
   "execution_count": 12,
   "metadata": {},
   "outputs": [
    {
     "name": "stdout",
     "output_type": "stream",
     "text": [
      "2\n"
     ]
    }
   ],
   "source": [
    "w = input('Enter the sentence : ')\n",
    "q = input('Enter the find sentence : ')\n",
    "def find(w, q):\n",
    "    print(w.count(q))\n",
    "\n",
    "find(w,q)"
   ]
  },
  {
   "cell_type": "code",
   "execution_count": 39,
   "metadata": {},
   "outputs": [
    {
     "name": "stdout",
     "output_type": "stream",
     "text": [
      "New salary for a b: $50,160.00\n"
     ]
    }
   ],
   "source": [
    "def main():\n",
    "    w, q, s = get_input()\n",
    "    \n",
    "    print('New salary for {} {}: ${:,.2f}'.format(w, q, cal(s)))\n",
    "     \n",
    "def get_input():\n",
    "    w = input('Enter first name : ')\n",
    "    q = input('Enter last name : ')\n",
    "    s = float(input('Enter current salary : '))\n",
    "    \n",
    "    return w, q, s\n",
    "    \n",
    "\n",
    "def cal(s):\n",
    "    if(s < 40000) :\n",
    "        ns = s*1.05\n",
    "    else : \n",
    "        ns = s + 2000 + (s - 40000) * 0.02\n",
    "    return ns\n",
    "\n",
    "main()\n"
   ]
  },
  {
   "cell_type": "markdown",
   "metadata": {},
   "source": [
    "# Exercise 4.5"
   ]
  },
  {
   "cell_type": "code",
   "execution_count": 9,
   "metadata": {},
   "outputs": [
    {
     "name": "stdout",
     "output_type": "stream",
     "text": [
      "HIJACK contains 52 successive letters in consecutive alphabetical order.\n"
     ]
    }
   ],
   "source": [
    "def main():\n",
    "    w = input('Enter a word: ')\n",
    "    count = cou(w)\n",
    "    print(w, 'contains', count, 'successive letters in consecutive alphabetical order.')\n",
    "\n",
    "def cou(w):\n",
    "    count = 0\n",
    "    for i in range(len(w)):\n",
    "        for j in range(ord('a'), ord('z') + 1):\n",
    "            ws = w[i:j]\n",
    "            if ''.join(sorted(ws)) == ws and len(ws) > 1:\n",
    "                count += 1\n",
    "    return count\n",
    "\n",
    "main()\n"
   ]
  },
  {
   "cell_type": "code",
   "execution_count": 1,
   "metadata": {},
   "outputs": [
    {
     "name": "stdout",
     "output_type": "stream",
     "text": [
      "HIJACK contains three successive letters in consecutive alphabetical order\n"
     ]
    }
   ],
   "source": [
    "# 교수님 코드\n",
    "def main():\n",
    "    word = getInput()\n",
    "\n",
    "    if isTripleConsecutive(word.upper()):\n",
    "        print(\"{} contains three successive letters in consecutive alphabetical order\".format(word))\n",
    "    else:\n",
    "        print(\"{} does not contain three successive letters in consecutive alphabetical order\".format(word))\n",
    "\n",
    "def getInput():\n",
    "    word = input(\"Enter a word: \")\n",
    "    return word\n",
    "\n",
    "def isTripleConsecutive(word):\n",
    "    for i in range(len(word)-2):\n",
    "        if word[i].isalpha() and ord(word[i])+1 == ord(word[i+1]) and ord(word[i+1])+1 == ord(word[i+2]):\n",
    "            return True\n",
    "        return False\n",
    "    \n",
    "main()"
   ]
  },
  {
   "cell_type": "markdown",
   "metadata": {},
   "source": [
    "# Exercise 5.1"
   ]
  },
  {
   "cell_type": "code",
   "execution_count": 34,
   "metadata": {},
   "outputs": [
    {
     "ename": "TypeError",
     "evalue": "input() takes 0 positional arguments but 1 was given",
     "output_type": "error",
     "traceback": [
      "\u001b[1;31m---------------------------------------------------------------------------\u001b[0m",
      "\u001b[1;31mTypeError\u001b[0m                                 Traceback (most recent call last)",
      "Cell \u001b[1;32mIn[34], line 41\u001b[0m\n\u001b[0;32m     36\u001b[0m         length_to \u001b[39m=\u001b[39m length\u001b[39m*\u001b[39mdict_unit[unit_from]\u001b[39m/\u001b[39mdict_unit[unit_to]\n\u001b[0;32m     38\u001b[0m         \u001b[39mreturn\u001b[39;00m length_to\n\u001b[1;32m---> 41\u001b[0m main()\n",
      "Cell \u001b[1;32mIn[34], line 3\u001b[0m, in \u001b[0;36mmain\u001b[1;34m()\u001b[0m\n\u001b[0;32m      1\u001b[0m \u001b[39mdef\u001b[39;00m \u001b[39mmain\u001b[39m():\n\u001b[0;32m      2\u001b[0m     dict_unit \u001b[39m=\u001b[39m readUnits()\n\u001b[1;32m----> 3\u001b[0m     unit_from, unit_to, length \u001b[39m=\u001b[39m getInput()\n\u001b[0;32m      4\u001b[0m     length_converted \u001b[39m=\u001b[39m convertUnits(unit_from, unit_to, length, dict_unit)\n\u001b[0;32m      6\u001b[0m     \u001b[39mfor\u001b[39;00m i, unit \u001b[39min\u001b[39;00m \u001b[39menumerate\u001b[39m(dict_unit):\n",
      "Cell \u001b[1;32mIn[34], line 29\u001b[0m, in \u001b[0;36mgetInput\u001b[1;34m()\u001b[0m\n\u001b[0;32m     28\u001b[0m \u001b[39mdef\u001b[39;00m \u001b[39mgetInput\u001b[39m():\n\u001b[1;32m---> 29\u001b[0m     unit_from \u001b[39m=\u001b[39m \u001b[39minput\u001b[39;49m(\u001b[39m\"\u001b[39;49m\u001b[39mEnter the unit to convert from: \u001b[39;49m\u001b[39m\"\u001b[39;49m)\n\u001b[0;32m     30\u001b[0m     unit_to \u001b[39m=\u001b[39m \u001b[39minput\u001b[39m(\u001b[39m\"\u001b[39m\u001b[39mEnter the unit to convert to: \u001b[39m\u001b[39m\"\u001b[39m)\n\u001b[0;32m     31\u001b[0m     length \u001b[39m=\u001b[39m \u001b[39mfloat\u001b[39m(\u001b[39minput\u001b[39m(\u001b[39m\"\u001b[39m\u001b[39mEnter length in \u001b[39m\u001b[39m{}\u001b[39;00m\u001b[39m\"\u001b[39m\u001b[39m.\u001b[39mformat(unit_from)))\n",
      "\u001b[1;31mTypeError\u001b[0m: input() takes 0 positional arguments but 1 was given"
     ]
    }
   ],
   "source": [
    "def main():\n",
    "    dict_unit = readUnits()\n",
    "    unit_from, unit_to, length = getInput()\n",
    "    length_converted = convertUnits(unit_from, unit_to, length, dict_unit)\n",
    "    \n",
    "    for i, unit in enumerate(dict_unit):\n",
    "        print('{:<15}'.format(unit), end='')\n",
    "        if (i+1) % 3 ==0:\n",
    "            print()\n",
    "            \n",
    "    print('Length in {}: {:.4f}'.format(unit_to, length_converted))\n",
    "    \n",
    "   \n",
    "\n",
    "def readUnits():\n",
    "    file_unit = open('data/Units.txt', 'r')\n",
    "    \n",
    "    dict_unit = {}\n",
    "    for line in file_unit:\n",
    "        name, value = line.split(',')\n",
    "        dict_unit[name] = float(value)\n",
    "        \n",
    "    file_unit.close()\n",
    "    \n",
    "    return dict_unit\n",
    "    \n",
    "\n",
    "def getInput():\n",
    "    unit_from = input(\"Enter the unit to convert from: \")\n",
    "    unit_to = input(\"Enter the unit to convert to: \")\n",
    "    length = float(input(\"Enter length in {}\".format(unit_from)))\n",
    "    \n",
    "    return unit_from, unit_to, length\n",
    "\n",
    "def convertUnits(unit_from, unit_to, length, dict_unit):\n",
    "        length_to = length*dict_unit[unit_from]/dict_unit[unit_to]\n",
    "        \n",
    "        return length_to\n",
    "        \n",
    "\n",
    "main()"
   ]
  },
  {
   "cell_type": "code",
   "execution_count": 3,
   "metadata": {},
   "outputs": [
    {
     "name": "stdout",
     "output_type": "stream",
     "text": [
      "UNITS OF LENGTH\n",
      "inches         furlongs       yards          \n",
      "fathoms        feet           kilometers     \n",
      "meters         miles          rods           \n",
      "Length in miles: 0.3153\n"
     ]
    }
   ],
   "source": [
    "# 교수님 코드\n",
    "def main():\n",
    "    print('UNITS OF LENGTH')\n",
    "    dict_unit = readUnits()\n",
    "\n",
    "    # count = 0\n",
    "    # for unit in dict_unit:\n",
    "    #     print('{:<15}'.format(unit), end='')\n",
    "    #     count += 1\n",
    "    #     if count == 3:\n",
    "    #         print()\n",
    "    #         count = 0\n",
    "\n",
    "    for i, unit in enumerate(dict_unit):\n",
    "        print('{:<15}'.format(unit), end='')\n",
    "        if (i+1) % 3 == 0:\n",
    "            print()\n",
    "\n",
    "    unit_from, unit_to, length = getInput()\n",
    "\n",
    "    length_converted = convertUnits(unit_from, unit_to, length, dict_unit)\n",
    "    print('Length in {}: {:.4f}'.format(unit_to, length_converted))\n",
    "\n",
    "def readUnits():\n",
    "    file_unit = open('data/Units.txt', 'r')\n",
    "\n",
    "    dict_unit = {}\n",
    "    for line in file_unit:\n",
    "        name, value = line.split(',')\n",
    "        dict_unit[name] = float(value)\n",
    "    \n",
    "    file_unit.close()\n",
    "\n",
    "    return dict_unit\n",
    "\n",
    "def getInput():\n",
    "    unit_from = input('Unit to convert from: ')\n",
    "    unit_to = input('Unit to coverto to: ')\n",
    "    length = float(input('Enter length in {}'.format(unit_from)))\n",
    "\n",
    "    return unit_from, unit_to, length\n",
    "\n",
    "def convertUnits(unit_from, unit_to, length, dict_unit):\n",
    "    return length * dict_unit[unit_from]/ dict_unit[unit_to]\n",
    "\n",
    "main()"
   ]
  },
  {
   "cell_type": "code",
   "execution_count": 33,
   "metadata": {},
   "outputs": [
    {
     "name": "stdout",
     "output_type": "stream",
     "text": [
      "Available units of measure:\n",
      "- inches\n",
      "- furlongs\n",
      "- yards\n",
      "- fathoms\n",
      "- feet\n",
      "- kilometers\n",
      "- meters\n",
      "- miles\n",
      "- rods\n"
     ]
    },
    {
     "ename": "TypeError",
     "evalue": "input() takes 0 positional arguments but 1 was given",
     "output_type": "error",
     "traceback": [
      "\u001b[1;31m---------------------------------------------------------------------------\u001b[0m",
      "\u001b[1;31mTypeError\u001b[0m                                 Traceback (most recent call last)",
      "Cell \u001b[1;32mIn[33], line 34\u001b[0m\n\u001b[0;32m     30\u001b[0m         converted_quantity \u001b[39m=\u001b[39m quantity \u001b[39m*\u001b[39m (conversion_rate_from \u001b[39m/\u001b[39m conversion_rate_to)\n\u001b[0;32m     32\u001b[0m         \u001b[39mprint\u001b[39m(\u001b[39mf\u001b[39m\u001b[39m\"\u001b[39m\u001b[39m{\u001b[39;00mquantity\u001b[39m}\u001b[39;00m\u001b[39m \u001b[39m\u001b[39m{\u001b[39;00munit_from\u001b[39m}\u001b[39;00m\u001b[39m is equivalent to \u001b[39m\u001b[39m{\u001b[39;00mconverted_quantity\u001b[39m}\u001b[39;00m\u001b[39m \u001b[39m\u001b[39m{\u001b[39;00munit_to\u001b[39m}\u001b[39;00m\u001b[39m.\u001b[39m\u001b[39m\"\u001b[39m)\n\u001b[1;32m---> 34\u001b[0m main()\n",
      "Cell \u001b[1;32mIn[33], line 20\u001b[0m, in \u001b[0;36mmain\u001b[1;34m()\u001b[0m\n\u001b[0;32m     16\u001b[0m units \u001b[39m=\u001b[39m \u001b[39mlist\u001b[39m(conversion_rates\u001b[39m.\u001b[39mkeys())\n\u001b[0;32m     18\u001b[0m display_units(units)\n\u001b[1;32m---> 20\u001b[0m unit_from \u001b[39m=\u001b[39m \u001b[39minput\u001b[39;49m(\u001b[39m\"\u001b[39;49m\u001b[39mEnter the unit to convert from: \u001b[39;49m\u001b[39m\"\u001b[39;49m)\n\u001b[0;32m     21\u001b[0m unit_to \u001b[39m=\u001b[39m \u001b[39minput\u001b[39m(\u001b[39m\"\u001b[39m\u001b[39mEnter the unit to convert to: \u001b[39m\u001b[39m\"\u001b[39m)\n\u001b[0;32m     22\u001b[0m quantity \u001b[39m=\u001b[39m \u001b[39mfloat\u001b[39m(\u001b[39minput\u001b[39m(\u001b[39m\"\u001b[39m\u001b[39mEnter length in \u001b[39m\u001b[39m{}\u001b[39;00m\u001b[39m\"\u001b[39m\u001b[39m.\u001b[39mformat(unit_from)))\n",
      "\u001b[1;31mTypeError\u001b[0m: input() takes 0 positional arguments but 1 was given"
     ]
    }
   ],
   "source": [
    "def load_conversion_rates():\n",
    "    conversion_rates = {}\n",
    "    with open('Units.txt', 'r') as file:\n",
    "        for line in file:\n",
    "            unit, rate = line.strip().split(',')\n",
    "            conversion_rates[unit] = float(rate)\n",
    "    return conversion_rates\n",
    "\n",
    "def display_units(units):\n",
    "    print(\"Available units of measure:\")\n",
    "    for unit in units:\n",
    "        print(\"-\", unit)\n",
    "\n",
    "def main():\n",
    "    conversion_rates = load_conversion_rates()\n",
    "    units = list(conversion_rates.keys())\n",
    "\n",
    "    display_units(units)\n",
    "\n",
    "    unit_from = input(\"Enter the unit to convert from: \")\n",
    "    unit_to = input(\"Enter the unit to convert to: \")\n",
    "    quantity = float(input(\"Enter the quantity to be converted: \"))\n",
    "\n",
    "    if unit_from not in units or unit_to not in units:\n",
    "        print(\"Invalid units of measure.\")\n",
    "    else:\n",
    "        conversion_rate_from = conversion_rates[unit_from]\n",
    "        conversion_rate_to = conversion_rates[unit_to]\n",
    "\n",
    "        converted_quantity = quantity * (conversion_rate_from / conversion_rate_to)\n",
    "\n",
    "        print(f\"{quantity} {unit_from} is equivalent to {converted_quantity} {unit_to}.\")\n",
    "\n",
    "main()\n"
   ]
  },
  {
   "cell_type": "markdown",
   "metadata": {},
   "source": [
    "# Exercise 6.2"
   ]
  },
  {
   "cell_type": "code",
   "execution_count": 21,
   "metadata": {},
   "outputs": [
    {
     "name": "stdout",
     "output_type": "stream",
     "text": [
      "['r', 'W', 'n']\n"
     ]
    }
   ],
   "source": [
    "import random as rd\n",
    "import string\n",
    "a = string.ascii_letters\n",
    "\n",
    "rlist = rd.sample(a, 3) # 중복 허용 없이 뽑기\n",
    "# choices() : 중복 허용 하여 k개 뽑기\n",
    "print(rlist)"
   ]
  },
  {
   "cell_type": "code",
   "execution_count": 36,
   "metadata": {},
   "outputs": [
    {
     "name": "stdout",
     "output_type": "stream",
     "text": [
      "the number of times that a head occurs :  52\n"
     ]
    }
   ],
   "source": [
    "import random as rd\n",
    "\n",
    "p = ['head','bottom']\n",
    "cnt = 0\n",
    "for _ in range(100):\n",
    "    coin = rd.choice(p) # 중복을 허용해 한개 뽑기\n",
    "    if(coin == 'head'):\n",
    "        cnt+=1\n",
    "print('the number of times that a head occurs : ', cnt)"
   ]
  },
  {
   "cell_type": "code",
   "execution_count": 40,
   "metadata": {},
   "outputs": [
    {
     "name": "stdout",
     "output_type": "stream",
     "text": [
      "the number of times that a head occurs :  54\n"
     ]
    }
   ],
   "source": [
    "import random as rd\n",
    "\n",
    "cnt = 0\n",
    "\n",
    "for _ in range(100):\n",
    "    if rd.choice(['head', 'tail']) == 'head':\n",
    "        cnt += 1\n",
    "print('the number of times that a head occurs : ', cnt)\n",
    "\n",
    "#_ 역할 : 마지막에 저장된 값이 저장. 값을 무시. "
   ]
  },
  {
   "cell_type": "markdown",
   "metadata": {},
   "source": [
    "# Exercise 6.4"
   ]
  },
  {
   "cell_type": "code",
   "execution_count": 20,
   "metadata": {},
   "outputs": [
    {
     "name": "stdout",
     "output_type": "stream",
     "text": [
      "app is in alphabetical order.\n"
     ]
    }
   ],
   "source": [
    "# 7\n",
    "# 문제 잘 못 이해함\n",
    "def main():\n",
    "    L = input('Enter the lowercase word :').lower()\n",
    "    if(isAlpha(L) == True):\n",
    "        print(L,'is in alphabetical order.')\n",
    "    else:\n",
    "        print(L,'is not in alphabetical order.')\n",
    "\n",
    "def isAlpha(L):\n",
    "    for i in range (len(L)-1):\n",
    "        if L[i] > L[i+1]:\n",
    "            return False\n",
    "    return True\n",
    "\n",
    "main()"
   ]
  },
  {
   "cell_type": "code",
   "execution_count": 23,
   "metadata": {},
   "outputs": [
    {
     "name": "stdout",
     "output_type": "stream",
     "text": [
      "True\n",
      "False\n"
     ]
    }
   ],
   "source": [
    "def main():\n",
    "    print('list1 is',isAlpha(list1))\n",
    "    print('list2 is', isAlpha(list2))\n",
    "    \n",
    "list1 = ['apple', 'banana', 'carrot']\n",
    "list2 = ['zebra', 'zero', 'alpha']\n",
    "\n",
    "\n",
    "def isAlphaRecursion(L):\n",
    "    if len(L) <= 1:\n",
    "        return True\n",
    "    elif L[0] <= L[1]:\n",
    "        isAlphaRecursion(L[1:])\n",
    "    else:\n",
    "         return False\n",
    "    \n",
    "def isAlpha(L):\n",
    "    for i in range (len(L)-1):\n",
    "        if L[i] > L[i+1]:\n",
    "            return False\n",
    "    return True\n",
    "\n",
    "main()"
   ]
  },
  {
   "cell_type": "code",
   "execution_count": 27,
   "metadata": {},
   "outputs": [],
   "source": [
    "# 8\n",
    "def main():\n",
    "    m= int(input(\"Enter the first number\"))\n",
    "    n= int(input(\"Enter the second number\"))\n",
    "    displaySequenceOfNumbers(m,n)\n",
    "    \n",
    "def displaySequenceOfNumbers(m, n):\n",
    "    while (m <= n):\n",
    "        print(m)\n",
    "        m = m + 1\n",
    "        if(n < m):\n",
    "            n = m\n",
    "            m = n\n",
    "            return\n",
    "\n",
    "main()"
   ]
  }
 ],
 "metadata": {
  "kernelspec": {
   "display_name": "Python 3",
   "language": "python",
   "name": "python3"
  },
  "language_info": {
   "codemirror_mode": {
    "name": "ipython",
    "version": 3
   },
   "file_extension": ".py",
   "mimetype": "text/x-python",
   "name": "python",
   "nbconvert_exporter": "python",
   "pygments_lexer": "ipython3",
   "version": "3.11.4"
  },
  "orig_nbformat": 4
 },
 "nbformat": 4,
 "nbformat_minor": 2
}
