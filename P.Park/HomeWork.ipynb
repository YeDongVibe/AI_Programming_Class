{
 "cells": [
  {
   "attachments": {},
   "cell_type": "markdown",
   "metadata": {},
   "source": [
    "Exercise 2.2"
   ]
  },
  {
   "cell_type": "code",
   "execution_count": 7,
   "metadata": {},
   "outputs": [
    {
     "name": "stdout",
     "output_type": "stream",
     "text": [
      "What you don't owe won't hurt you.\n"
     ]
    }
   ],
   "source": [
    "s = input('Enter a sentence : ')\n",
    "r = input('Enter word to replace : ')\n",
    "k = input('Enter replacement word : ')\n",
    "\n",
    "st = str(s.replace(r, k))\n",
    "print(st)\n"
   ]
  },
  {
   "cell_type": "code",
   "execution_count": 6,
   "metadata": {},
   "outputs": [
    {
     "name": "stdout",
     "output_type": "stream",
     "text": [
      "banana banana banana banana\n"
     ]
    }
   ],
   "source": [
    "s = input('Enter a sentence : ')\n",
    "r = input('Enter word to replace : ')\n",
    "k = input('Enter replacement word : ')\n",
    "\n",
    "words = s.split()\n",
    "st = []\n",
    "for i in words:\n",
    "    if (i == r):\n",
    "        i = k\n",
    "    st.append(k)\n",
    "st = ' '.join(st)\n",
    "print(st)\n"
   ]
  },
  {
   "attachments": {},
   "cell_type": "markdown",
   "metadata": {},
   "source": [
    "Exercise 2.3"
   ]
  },
  {
   "cell_type": "code",
   "execution_count": 12,
   "metadata": {},
   "outputs": [
    {
     "name": "stdout",
     "output_type": "stream",
     "text": [
      "$ 7,903.15\n"
     ]
    }
   ],
   "source": [
    "f = int(input('Enter future value : '))\n",
    "r = int(input('Enter interest rate : '))\n",
    "n = int(input('Enter number of years : '))\n",
    "\n",
    "res = f / (1+(r/100))**n\n",
    "\n",
    "print('$',format(round(res, 2), ','))"
   ]
  }
 ],
 "metadata": {
  "kernelspec": {
   "display_name": "Python 3",
   "language": "python",
   "name": "python3"
  },
  "language_info": {
   "codemirror_mode": {
    "name": "ipython",
    "version": 3
   },
   "file_extension": ".py",
   "mimetype": "text/x-python",
   "name": "python",
   "nbconvert_exporter": "python",
   "pygments_lexer": "ipython3",
   "version": "3.11.4"
  },
  "orig_nbformat": 4
 },
 "nbformat": 4,
 "nbformat_minor": 2
}
