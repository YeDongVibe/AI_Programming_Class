{
 "cells": [
  {
   "cell_type": "markdown",
   "metadata": {},
   "source": [
    "# Exception Handling\n",
    "- try ~ : 동작할 코드\n",
    "- except ~  : 예외 발생시 Error \n",
    "- else ~ : exception이 발생하지 않을 떄 실행\n",
    "- finally ~ : try든 except에서 왔던지 간에 마지막에 최종적으로 무조건 실행해야할 코드"
   ]
  },
  {
   "cell_type": "code",
   "execution_count": 1,
   "metadata": {},
   "outputs": [
    {
     "name": "stdout",
     "output_type": "stream",
     "text": [
      "Error!!\n"
     ]
    }
   ],
   "source": [
    "try : \n",
    "    num = int(input('Enter a number : '))\n",
    "    print('Entered number: {}'.format(num))\n",
    "except ValueError: # valueError발생시 동작\n",
    "    print('Error!!')\n",
    "    \n",
    "except : # 모든 에러에서 동작\n",
    "    print('Error!!')\n",
    "    \n",
    "except ValueError as exp: # 별칭 지정\n",
    "    print('Error!!')"
   ]
  },
  {
   "cell_type": "code",
   "execution_count": 9,
   "metadata": {},
   "outputs": [
    {
     "name": "stdout",
     "output_type": "stream",
     "text": [
      "0.1\n",
      "No Error occured\n",
      "Try statement is finished\n"
     ]
    }
   ],
   "source": [
    "def main():\n",
    "    try:\n",
    "        fileName = input(\"Enter the name of a file: \")\n",
    "        #infile = open(fileName, 'r')\n",
    "        infile = open('data/{}.txt'.format(fileName), 'r')\n",
    "        num = float(infile.readline())\n",
    "        print(1/num)\n",
    "    except FileNotFoundError as exc1:\n",
    "        print(exc1)\n",
    "    except TypeError as exc2:\n",
    "        print(exc2)\n",
    "    except ZeroDivisionError as exc3:\n",
    "        print(exc3)\n",
    "    else:\n",
    "        print('No Error occured')\n",
    "    finally : \n",
    "        print('Try statement is finished')\n",
    "main()"
   ]
  },
  {
   "cell_type": "code",
   "execution_count": 18,
   "metadata": {},
   "outputs": [
    {
     "name": "stdout",
     "output_type": "stream",
     "text": [
      "FileNotFoundError\n",
      "[Errno 2] No such file or directory: 'data/zzzzzzzzzzzzz.txt'\n"
     ]
    },
    {
     "ename": "UnboundLocalError",
     "evalue": "cannot access local variable 'infile' where it is not associated with a value",
     "output_type": "error",
     "traceback": [
      "\u001b[1;31m---------------------------------------------------------------------------\u001b[0m",
      "\u001b[1;31mUnboundLocalError\u001b[0m                         Traceback (most recent call last)",
      "Cell \u001b[1;32mIn[18], line 16\u001b[0m\n\u001b[0;32m     14\u001b[0m         infile\u001b[39m.\u001b[39mclose()\n\u001b[0;32m     15\u001b[0m         \u001b[39mprint\u001b[39m(\u001b[39m'\u001b[39m\u001b[39mTry statement is finished\u001b[39m\u001b[39m'\u001b[39m)\n\u001b[1;32m---> 16\u001b[0m main()\n",
      "Cell \u001b[1;32mIn[18], line 14\u001b[0m, in \u001b[0;36mmain\u001b[1;34m()\u001b[0m\n\u001b[0;32m     12\u001b[0m     \u001b[39mprint\u001b[39m(\u001b[39m'\u001b[39m\u001b[39mNo Error occured\u001b[39m\u001b[39m'\u001b[39m)\n\u001b[0;32m     13\u001b[0m \u001b[39mfinally\u001b[39;00m : \n\u001b[1;32m---> 14\u001b[0m     infile\u001b[39m.\u001b[39mclose()\n\u001b[0;32m     15\u001b[0m     \u001b[39mprint\u001b[39m(\u001b[39m'\u001b[39m\u001b[39mTry statement is finished\u001b[39m\u001b[39m'\u001b[39m)\n",
      "\u001b[1;31mUnboundLocalError\u001b[0m: cannot access local variable 'infile' where it is not associated with a value"
     ]
    }
   ],
   "source": [
    "def main():\n",
    "    try:\n",
    "        fileName = input(\"Enter the name of a file: \")\n",
    "        #infile = open(fileName, 'r')\n",
    "        infile = open('data/{}.txt'.format(fileName), 'r')\n",
    "        num = float(infile.readline())\n",
    "        print(1/num)\n",
    "    except Exception as exc: # 모든 error의 상위 class가 Exception임. 그래서 해당 error를 표시해줌\n",
    "        print(type(exc).__name__) # error 이름 표시\n",
    "        print(exc)\n",
    "    else:\n",
    "        print('No Error occured')\n",
    "    finally : \n",
    "        infile.close()\n",
    "        print('Try statement is finished')\n",
    "main()"
   ]
  },
  {
   "cell_type": "markdown",
   "metadata": {},
   "source": [
    "# Random\n"
   ]
  },
  {
   "cell_type": "code",
   "execution_count": 101,
   "metadata": {},
   "outputs": [
    {
     "name": "stdout",
     "output_type": "stream",
     "text": [
      "Cherries: 250521 (0.250521)\n",
      "Plum: 248965 (0.248965)\n",
      "Bell: 49795 (0.049795)\n",
      "Orange: 250105 (0.250105)\n",
      "Melon: 150453 (0.150453)\n",
      "Bar: 50161 (0.050161)\n"
     ]
    }
   ],
   "source": [
    "import random as rd\n",
    "\n",
    "def main():\n",
    "    # for i in range(3):\n",
    "    #     outcome = spinWheel()\n",
    "    #     print(outcome, end=' ')\n",
    "        \n",
    "    num = 1000000\n",
    "    dict_cnt = {}\n",
    "    for _ in range(num):\n",
    "        outcome = spinWheel()\n",
    "        dict_cnt[outcome] = dict_cnt.get(outcome, 0) + 1\n",
    "        \n",
    "    for k, v in dict_cnt.items():\n",
    "        print('{}: {} ({})'.format(k, v, v/num))\n",
    "\n",
    "def spinWheel():\n",
    "    n = rd.randint(1, 20)\n",
    "    if (n > 15):\n",
    "        return 'Cherries'\n",
    "    elif (n > 10):\n",
    "        return 'Orange'\n",
    "    elif (n > 5):\n",
    "        return 'Plum'\n",
    "    elif (n > 2):\n",
    "        return 'Melon'\n",
    "    elif (n > 1):\n",
    "        return 'Bell'\n",
    "    else: # 1일때\n",
    "        return 'Bar'\n",
    "\n",
    "main()\n",
    "\n",
    "\n",
    "# if : 16~20\n",
    "# elif: 11~15\n",
    "# *\n",
    "# *\n",
    "# *\n",
    "# else : 1\n",
    "# 이기에 if, elif의 확률이(1/4)가 되기에 상위내용이 더 많이 나옴"
   ]
  },
  {
   "cell_type": "markdown",
   "metadata": {},
   "source": [
    "# Swapping\n",
    "- x,y = y,x : (x,y)가 숨겨진 튜플의 형태임!"
   ]
  },
  {
   "cell_type": "markdown",
   "metadata": {},
   "source": [
    "# Recursion\n",
    "- 종료지점 및 구간 범위를 잘 지정해야함"
   ]
  }
 ],
 "metadata": {
  "kernelspec": {
   "display_name": "Python 3",
   "language": "python",
   "name": "python3"
  },
  "language_info": {
   "codemirror_mode": {
    "name": "ipython",
    "version": 3
   },
   "file_extension": ".py",
   "mimetype": "text/x-python",
   "name": "python",
   "nbconvert_exporter": "python",
   "pygments_lexer": "ipython3",
   "version": "3.11.4"
  },
  "orig_nbformat": 4
 },
 "nbformat": 4,
 "nbformat_minor": 2
}
