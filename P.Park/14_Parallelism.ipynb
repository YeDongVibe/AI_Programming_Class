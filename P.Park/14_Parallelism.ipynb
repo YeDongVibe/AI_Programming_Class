{
 "cells": [
  {
   "cell_type": "markdown",
   "metadata": {},
   "source": [
    "# 프로세스 스포닝(spawning)"
   ]
  },
  {
   "cell_type": "code",
   "execution_count": 1,
   "metadata": {},
   "outputs": [
    {
     "name": "stdout",
     "output_type": "stream",
     "text": [
      "MainProcess\n",
      "5400\n",
      "MainProcess End\n"
     ]
    }
   ],
   "source": [
    "import multiprocessing as mp\n",
    "import time\n",
    "\n",
    "def worker():\n",
    "    proc = mp.current_process()\n",
    "    print(proc.name)\n",
    "    print(proc.pid)\n",
    "    time.sleep(5)\n",
    "    print(\"SubProcess End\")\n",
    "\n",
    "\n",
    "if __name__ == \"__main__\":\n",
    "    # main process\n",
    "    proc = mp.current_process()\n",
    "    print(proc.name)\n",
    "    print(proc.pid)\n",
    "\n",
    "    # process spawning\n",
    "    p = mp.Process(name=\"SubProcess\", target=worker) # SubProcess라는 child process 만들어짐\n",
    "    p.start()\n",
    "\n",
    "    print(\"MainProcess End\")\n"
   ]
  },
  {
   "cell_type": "markdown",
   "metadata": {},
   "source": [
    "# Pool\n",
    "- for문보다 빠른 시간내로 여러 작업을 실행할 수 있음"
   ]
  },
  {
   "cell_type": "code",
   "execution_count": 1,
   "metadata": {},
   "outputs": [],
   "source": [
    "from multiprocessing import Pool\n",
    "\n",
    "\n",
    "def work(x):\n",
    "    print(x)\n",
    "\n",
    "\n",
    "if __name__ == \"__main__\":\n",
    "    pool = Pool(4) # 4명이 동시에 일을 하기에 출력 순서가 일관적이지 않고 섞여서 나옴\n",
    "    data = range(1, 10)\n",
    "    pool.map(work, data)\n"
   ]
  }
 ],
 "metadata": {
  "kernelspec": {
   "display_name": "Python 3",
   "language": "python",
   "name": "python3"
  },
  "language_info": {
   "codemirror_mode": {
    "name": "ipython",
    "version": 3
   },
   "file_extension": ".py",
   "mimetype": "text/x-python",
   "name": "python",
   "nbconvert_exporter": "python",
   "pygments_lexer": "ipython3",
   "version": "3.11.4"
  },
  "orig_nbformat": 4
 },
 "nbformat": 4,
 "nbformat_minor": 2
}
