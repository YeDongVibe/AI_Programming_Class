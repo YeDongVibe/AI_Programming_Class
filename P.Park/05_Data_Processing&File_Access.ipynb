{
 "cells": [
  {
   "cell_type": "markdown",
   "metadata": {},
   "source": [
    "# File Access"
   ]
  },
  {
   "cell_type": "code",
   "execution_count": 3,
   "metadata": {},
   "outputs": [
    {
     "name": "stdout",
     "output_type": "stream",
     "text": [
      "George Washington\n",
      "John Adams\n",
      "Thomas Jefferson\n",
      "['George Washington', 'John Adams', 'Thomas Jefferson']\n"
     ]
    }
   ],
   "source": [
    "def displaywithForLoop(file):\n",
    "    infile = open(file, 'r')\n",
    "    for line in infile:\n",
    "        print(line.rstrip())\n",
    "    infile.close()\n",
    "\n",
    "\n",
    "def displayWithListComprehension(file):\n",
    "    infile = open(file, 'r')\n",
    "    listPres = [line.rstrip() for line in infile]\n",
    "    infile.close()\n",
    "    print(listPres)\n",
    "\n",
    "displaywithForLoop('data/FirstPresidents.txt')\n",
    "displayWithListComprehension('data/FirstPresidents.txt')"
   ]
  },
  {
   "cell_type": "code",
   "execution_count": 5,
   "metadata": {},
   "outputs": [],
   "source": [
    "def main():\n",
    "    L = ['George Washington', 'John Adams', 'Thomas Jefferson']\n",
    "    outfile = open('data/FirstPresidents1.txt', 'w')\n",
    "    createWithWrite(L, outfile)\n",
    "    outfile = open('data/FirstPresidents2.txt', 'w')\n",
    "    createWithWritelines(L, outfile)\n",
    "\n",
    "def createWithWrite(L, outfile):\n",
    "    for i in range(len(L)):\n",
    "        outfile.write(L[i] + '\\n')\n",
    "    outfile.close()\n",
    "    \n",
    "def createWithWritelines(L, outfile):\n",
    "    for i in range(len(L)):\n",
    "        L[i] = L[i] + '\\n'\n",
    "    outfile.writelines(L)\n",
    "    outfile.close()\n",
    "    \n",
    "main()"
   ]
  },
  {
   "cell_type": "code",
   "execution_count": 8,
   "metadata": {},
   "outputs": [],
   "source": [
    "def main():\n",
    "    vicePreList = crateListFromFile('data/VPres.txt')\n",
    "    createNewfile(vicePreList, 'data/USPres.txt', 'data/Both.txt')\n",
    "    \n",
    "def crateListFromFile(fileName):\n",
    "    infile = open(fileName, 'r')\n",
    "    desiredList = [line.rstrip() for line in infile]\n",
    "    infile.close()\n",
    "    return desiredList\n",
    "\n",
    "def createNewfile(listName, oldFileName, newFileName):\n",
    "    infile = open(oldFileName, 'r')\n",
    "    outfile = open(newFileName, 'w')\n",
    "    for person in infile:\n",
    "        if person.rstrip() in listName:\n",
    "            outfile.write(person)\n",
    "    infile.close()\n",
    "    outfile.close()\n",
    "    \n",
    "main()"
   ]
  },
  {
   "cell_type": "markdown",
   "metadata": {},
   "source": [
    "# Set"
   ]
  },
  {
   "cell_type": "code",
   "execution_count": 13,
   "metadata": {},
   "outputs": [
    {
     "name": "stdout",
     "output_type": "stream",
     "text": [
      "india in bri :  True\n",
      "usa in bri :  False\n",
      "bri :  {'brazil', 'india'}\n",
      "bric :  {'brazil', 'india', 'china', 'russia'}\n",
      "bric.issuperset(bri) :  True\n",
      "bri & bric :  {'brazil', 'india'}\n",
      "bric.difference(bri) :  {'russia', 'china'}\n",
      "bric.union(bri) :  {'russia', 'brazil', 'india', 'china'}\n"
     ]
    }
   ],
   "source": [
    "bri = {'brazil', 'russia', 'india'}\n",
    "print('india in bri : ', 'india' in bri)\n",
    "\n",
    "print('usa in bri : ', 'usa' in bri)\n",
    "\n",
    "bric = bri.copy()\n",
    "bric.add('china')\n",
    "bri.remove('russia')\n",
    "print('bri : ', bri)\n",
    "print('bric : ', bric)\n",
    "print('bric.issuperset(bri) : ', bric.issuperset(bri))\n",
    "\n",
    "print('bri & bric : ', bri & bric)\n",
    "print('bric.difference(bri) : ', bric.difference(bri))\n",
    "print('bric.union(bri) : ', bric.union(bri))"
   ]
  },
  {
   "cell_type": "markdown",
   "metadata": {},
   "source": [
    "# CSV File"
   ]
  },
  {
   "cell_type": "code",
   "execution_count": 18,
   "metadata": {},
   "outputs": [
    {
     "name": "stdout",
     "output_type": "stream",
     "text": [
      "Argentina\n",
      "Bolivia\n",
      "Brazil\n",
      "Chile\n",
      "Colombia\n",
      "Ecuador\n",
      "Guyana\n",
      "Paraguay\n",
      "Peru\n",
      "Suriname\n",
      "Uruguay\n",
      "Venezuela\n"
     ]
    }
   ],
   "source": [
    "def main():\n",
    "    continent = input('Enter the name of a continent : ')\n",
    "    continent = continent.title()\n",
    "    if continent != \"Antarctica\":\n",
    "        infile = open('data/UN.txt', 'r')\n",
    "        for line in infile:\n",
    "            data = line.split(',')\n",
    "            if data[1] == continent:\n",
    "                print(data[0])\n",
    "    else:\n",
    "        print(\"There are no countreis in Antarctica.\")\n",
    "main()"
   ]
  },
  {
   "cell_type": "markdown",
   "metadata": {},
   "source": [
    "# Dictionary"
   ]
  },
  {
   "cell_type": "code",
   "execution_count": 20,
   "metadata": {},
   "outputs": [
    {
     "name": "stdout",
     "output_type": "stream",
     "text": [
      "{'one': 1, 'two': 2, 'three': 3}\n",
      "{'one': 1, 'two': 2, 'three': 3}\n"
     ]
    }
   ],
   "source": [
    "list1 = [['one', 1],['two', 2], ['three', 3]]\n",
    "print(dict(list1))\n",
    "\n",
    "list2 = [('one', 1), ('two', 2), ('three', 3)]\n",
    "print(dict(list2))"
   ]
  },
  {
   "cell_type": "code",
   "execution_count": 32,
   "metadata": {},
   "outputs": [
    {
     "name": "stdout",
     "output_type": "stream",
     "text": [
      "ab\n",
      "kim:ab\n",
      "lee:abc\n",
      "ab\n",
      "abc\n",
      "kim\n",
      "lee\n",
      "(0, ('kim', 'ab'))\n",
      "(1, ('lee', 'abc'))\n",
      "0 kim ab\n",
      "1 lee abc\n"
     ]
    }
   ],
   "source": [
    "addr = {'kim':'ab', 'lee':'abc'}\n",
    "print(addr['kim'])\n",
    "\n",
    "for key, value in addr.items(): # 첫번째 값을 key, 두번째 값을 value로 넣음\n",
    "    print('{}:{}'.format(key, value))\n",
    "\n",
    "for v in addr.values(): # value만 출력됨.\n",
    "    print(v)\n",
    "\n",
    "for v in addr: # dictionary를 그냥 출력하면 key만 출력됨.\n",
    "    print(v)\n",
    "    \n",
    "for v in enumerate(addr.items()): # key, value의 순서를 함께 출력\n",
    "    print(v)\n",
    "    \n",
    "for i, (key, value) in enumerate(addr.items()): # i, key, value를 출력 / ()를 안쓰면 출력 X -> 크게 보았을 때 출력 가능한 크기가 2라서 맞지 않음\n",
    "    print(i, key, value)\n",
    "\n",
    "\n"
   ]
  },
  {
   "cell_type": "code",
   "execution_count": 38,
   "metadata": {},
   "outputs": [
    {
     "name": "stdout",
     "output_type": "stream",
     "text": [
      "Admission fee is  8\n"
     ]
    }
   ],
   "source": [
    "def main():\n",
    "    AgeGroup = input('(c,m,a, or s) : ')\n",
    "    print('Admission fee is ', determin(AgeGroup))\n",
    "\n",
    "def determin(AgeGroup):\n",
    "    dict = {'c' : 0, 'm' : 5, 'a' : 10, 's' : 8}\n",
    "    return dict[AgeGroup]\n",
    "\n",
    "main()"
   ]
  },
  {
   "cell_type": "code",
   "execution_count": 6,
   "metadata": {},
   "outputs": [
    {
     "name": "stdout",
     "output_type": "stream",
     "text": [
      "The Gettysburg Address contains  268 words.\n",
      "The Gettysbug Address contians 139 differnet words.\n",
      "\n",
      "The most common words and their frequencies are:\n",
      "   that: 13\n",
      "   the: 11\n",
      "   we: 10\n",
      "   to: 8\n",
      "   here: 8\n",
      "   a: 7\n",
      "   and: 6\n"
     ]
    }
   ],
   "source": [
    "def main():\n",
    "    listOfWords = formListOfWords('data/Gettysburg.txt')\n",
    "    freq = createFrequencyDictionary(listOfWords)\n",
    "    displayWordCount(listOfWords, freq)\n",
    "    displayMostCommonWords(freq)\n",
    "    \n",
    "def formListOfWords(fileName):\n",
    "    infile = open(fileName)\n",
    "    originalLine = infile.readline().lower()\n",
    "    line = \"\"\n",
    "    for ch in originalLine:\n",
    "        if ('a' <= ch <= 'z') or (ch == \" \"): # 알파벳 범위 내에 있는가\n",
    "            line += ch\n",
    "    listOfWords = line.split()\n",
    "    return listOfWords\n",
    "\n",
    "def createFrequencyDictionary(listOfWords):\n",
    "    freq = {} # 빈 dictionary 생성\n",
    "    # for word in listOfWords:\n",
    "    #     freq[word] = 0 # 0으로 초기화\n",
    "    # for word in listOfWords:\n",
    "    #     freq[word] = freq[word] + 1 # 한번더 돌면서 1로 증가\n",
    "    for word in listOfWords: # 위의 두줄을 합친 내용\n",
    "        freq[word] = freq.get(word, 0) + 1 #get(key, default) : 없으면 default값으로 있으면 key값?\n",
    "    return freq\n",
    "    \n",
    "def displayWordCount(listOfWords, freq):\n",
    "    print('The Gettysburg Address contains ', len(listOfWords), \"words.\")\n",
    "    print('The Gettysbug Address contians', len(freq),'differnet words.') # key 갯수 = unique한 단어의 갯수\n",
    "    print()\n",
    "    \n",
    "def displayMostCommonWords(freq):\n",
    "    print('The most common words and their frequencies are:')\n",
    "    # listOfMostCommonWords = []\n",
    "    # for word in freq.keys():\n",
    "    #     if freq[word] >= 6:\n",
    "    #         listOfMostCommonWords.append((word, freq[word]))\n",
    "            \n",
    "    # 더 멋있게 해보자 (listComprehension) : 위의 4줄\n",
    "    listOfMostCommonWords = [(word, freq[word]) for word in freq if freq[word] >= 6]\n",
    "    \n",
    "    \n",
    "    listOfMostCommonWords.sort(key=lambda x:x[1], reverse=True) # freq[word]값(value) 기준으로 내림차순 sort \n",
    "    for item in listOfMostCommonWords:\n",
    "        print(\"  \", item[0] + ':', item[1])\n",
    "\n",
    "main()"
   ]
  },
  {
   "cell_type": "markdown",
   "metadata": {},
   "source": [
    "# Dictionary 를 file로 저장\n",
    "** sort() : 리스트 원본값을 직접 수정.\n",
    "** sorted() : 리스트 원본 값은 그대로, 정렬 값을 반환\n",
    "- list 는 변할 수 있음\n",
    "- dictionary는 불변"
   ]
  },
  {
   "cell_type": "code",
   "execution_count": 2,
   "metadata": {},
   "outputs": [
    {
     "name": "stdout",
     "output_type": "stream",
     "text": [
      "{'Peru': {'popl': 30.1, 'cont': 'South America', 'area': 496226}, 'Czech Republic': {'popl': 10.6, 'cont': 'Europe', 'area': 30450}, 'Panama': {'popl': 3.6, 'cont': 'North America', 'area': 29157}, 'Namibia': {'popl': 2.2, 'cont': 'Africa', 'area': 318696}, 'Qatar': {'popl': 2.1, 'cont': 'Asia', 'area': 4416}, 'Slovenia': {'popl': 2.0, 'cont': 'Europe', 'area': 7827}, 'France': {'popl': 66.3, 'cont': 'Europe', 'area': 211209}, 'Fiji': {'popl': 0.9, 'cont': 'Australia/Oceania', 'area': 7056}, 'Azerbaijan': {'popl': 9.7, 'cont': 'Asia', 'area': 33436}, 'Sweden': {'popl': 9.7, 'cont': 'Europe', 'area': 173732}, 'Jordan': {'popl': 7.9, 'cont': 'Asia', 'area': 45495}, 'Paraguay': {'popl': 6.7, 'cont': 'South America', 'area': 157048}, 'Algeria': {'popl': 38.3, 'cont': 'Africa', 'area': 919595}, 'United Republic of Tanzania': {'popl': 50.0, 'cont': 'Africa', 'area': 364898}, 'Sudan': {'popl': 35.5, 'cont': 'Africa', 'area': 967495}, 'Argentina': {'popl': 44.0, 'cont': 'South America', 'area': 1068302}, 'Mauritania': {'popl': 3.5, 'cont': 'Africa', 'area': 397954}, 'Vietnam': {'popl': 93.4, 'cont': 'Asia', 'area': 128527}, 'Kuwait': {'popl': 2.7, 'cont': 'Asia', 'area': 6880}, 'Papua New Guinea': {'popl': 6.6, 'cont': 'Australia/Oceania', 'area': 178703}, 'Nicaragua': {'popl': 6.1, 'cont': 'North America', 'area': 50193}, 'Comoros': {'popl': 0.77, 'cont': 'Africa', 'area': 863}, 'Jamaica': {'popl': 2.9, 'cont': 'North America', 'area': 4444}, 'Palau': {'popl': 0.021, 'cont': 'Australia/Oceania', 'area': 177}, 'Norway': {'popl': 5.1, 'cont': 'Europe', 'area': 148746}, 'Australia': {'popl': 22.5, 'cont': 'Australia/Oceania', 'area': 2967909}, 'Brazil': {'popl': 202.7, 'cont': 'South America', 'area': 3287597}, 'Cambodia': {'popl': 15.5, 'cont': 'Asia', 'area': 69898}, 'Senegal': {'popl': 13.6, 'cont': 'Africa', 'area': 76000}, 'Honduras': {'popl': 8.6, 'cont': 'North America', 'area': 43278}, 'Morocco': {'popl': 33.0, 'cont': 'Africa', 'area': 172414}, 'Maldives': {'popl': 0.39, 'cont': 'Asia', 'area': 115}, 'Togo': {'popl': 7.4, 'cont': 'Africa', 'area': 21925}, 'Bolivia': {'popl': 10.6, 'cont': 'South America', 'area': 424163}, 'Syrian Arab Republic': {'popl': 18.0, 'cont': 'Asia', 'area': 71479}, 'Eritrea': {'popl': 6.3, 'cont': 'Africa', 'area': 45405}, 'Swaziland': {'popl': 1.4, 'cont': 'Africa', 'area': 6704}, 'Djibouti': {'popl': 0.81, 'cont': 'Africa', 'area': 8958}, 'Russian Federation': {'popl': 142.5, 'cont': 'Europe', 'area': 6592800}, 'South Africa': {'popl': 48.4, 'cont': 'Africa', 'area': 471443}, 'Spain': {'popl': 47.7, 'cont': 'Europe', 'area': 195364}, 'Saint Kitts and Nevis': {'popl': 0.052, 'cont': 'North America', 'area': 101}, 'Romania': {'popl': 21.7, 'cont': 'Europe', 'area': 92043}, 'Chile': {'popl': 17.4, 'cont': 'South America', 'area': 292183}, 'Albania': {'popl': 3.0, 'cont': 'Europe', 'area': 11100}, 'Croatia': {'popl': 4.5, 'cont': 'Europe', 'area': 21831}, 'Republic of the Congo': {'popl': 4.7, 'cont': 'Africa', 'area': 132047}, 'Belize': {'popl': 0.34, 'cont': 'North America', 'area': 8867}, 'Micronesia': {'popl': 0.11, 'cont': 'Australia/Oceania', 'area': 271}, 'Somalia': {'popl': 10.4, 'cont': 'Africa', 'area': 246201}, 'Finland': {'popl': 5.3, 'cont': 'Europe', 'area': 130596}, 'Kiribati': {'popl': 0.1, 'cont': 'Australia/Oceania', 'area': 280}, 'Dominican Republic': {'popl': 10.4, 'cont': 'North America', 'area': 18704}, 'Cape Verde': {'popl': 0.54, 'cont': 'Africa', 'area': 1557}, 'Madagascar': {'popl': 23.2, 'cont': 'Africa', 'area': 226597}, 'Andorra': {'popl': 0.085, 'cont': 'Europe', 'area': 181}, 'Saint Vincent and the Grenadines': {'popl': 0.1, 'cont': 'North America', 'area': 150}, 'Benin': {'popl': 10.2, 'cont': 'Africa', 'area': 43484}, 'Tajikistan': {'popl': 8.1, 'cont': 'Asia', 'area': 55251}, 'Samoa': {'popl': 0.2, 'cont': 'Australia/Oceania', 'area': 1093}, 'Greece': {'popl': 11.8, 'cont': 'Europe', 'area': 50944}, 'Gabon': {'popl': 1.7, 'cont': 'Africa', 'area': 103347}, 'The former Yugoslav Republic of Macedonia': {'popl': 2.1, 'cont': 'Europe', 'area': 205}, 'Luxembourg': {'popl': 0.52, 'cont': 'Europe', 'area': 998}, 'Lebanon': {'popl': 5.9, 'cont': 'Asia', 'area': 4035}, 'Philippines': {'popl': 107.7, 'cont': 'Asia', 'area': 115831}, 'Venezuela': {'popl': 28.9, 'cont': 'South America', 'area': 353841}, 'Armenia': {'popl': 3.1, 'cont': 'Asia', 'area': 11506}, \"Lao People's Democratic Republic\": {'popl': 6.8, 'cont': 'Asia', 'area': 91429}, 'Netherlands': {'popl': 16.59, 'cont': 'Europe', 'area': 16033}, 'Liberia': {'popl': 4.1, 'cont': 'Africa', 'area': 43000}, 'Suriname': {'popl': 0.57, 'cont': 'South America', 'area': 63251}, 'Italy': {'popl': 61.7, 'cont': 'Europe', 'area': 116346}, 'Mauritius': {'popl': 1.3, 'cont': 'Africa', 'area': 787}, 'Tuvalu': {'popl': 0.011, 'cont': 'Australia/Oceania', 'area': 10}, 'El Salvador': {'popl': 6.2, 'cont': 'North America', 'area': 8124}, 'Vanuatu': {'popl': 0.27, 'cont': 'Australia/Oceania', 'area': 4706}, 'Bhutan': {'popl': 0.73, 'cont': 'Asia', 'area': 14824}, 'Ukraine': {'popl': 44.3, 'cont': 'Europe', 'area': 233090}, 'Ecuador': {'popl': 14.0, 'cont': 'South America', 'area': 98985}, 'Singapore': {'popl': 5.6, 'cont': 'Asia', 'area': 274.2}, 'Timor-Leste': {'popl': 1.2, 'cont': 'Asia', 'area': 5743}, 'Tonga': {'popl': 0.11, 'cont': 'Australia/Oceania', 'area': 289}, 'Democratic Republic of the Congo': {'popl': 77.4, 'cont': 'Africa', 'area': 905355}, 'Ireland': {'popl': 4.8, 'cont': 'Europe', 'area': 31520}, 'Zambia': {'popl': 14.7, 'cont': 'Africa', 'area': 290587}, 'Yemen': {'popl': 26.1, 'cont': 'Asia', 'area': 203849}, 'China': {'popl': 1355.7, 'cont': 'Asia', 'area': 3696100}, 'Malawi': {'popl': 17.4, 'cont': 'Africa', 'area': 45747}, 'Egypt': {'popl': 86.9, 'cont': 'Africa', 'area': 387048}, 'Mexico': {'popl': 120.3, 'cont': 'North America', 'area': 761606}, 'Cameroon': {'popl': 23.1, 'cont': 'Africa', 'area': 183568}, 'Turkmenistan': {'popl': 5.1, 'cont': 'Asia', 'area': 188456}, 'Mozambique': {'popl': 24.7, 'cont': 'Africa', 'area': 309496}, 'Barbados': {'popl': 0.29, 'cont': 'North America', 'area': 167}, 'Niger': {'popl': 17.5, 'cont': 'Africa', 'area': 489678}, 'Ghana': {'popl': 25.8, 'cont': 'Africa', 'area': 92098}, 'Colombia': {'popl': 46.2, 'cont': 'South America', 'area': 440839}, 'Myanmar': {'popl': 55.7, 'cont': 'Asia', 'area': 261227}, 'Kyrgyzstan': {'popl': 5.6, 'cont': 'Asia', 'area': 77181}, 'Thailand': {'popl': 67.7, 'cont': 'Asia', 'area': 198115}, 'Monaco': {'popl': 0.031, 'cont': 'Europe', 'area': 0.76}, 'Haiti': {'popl': 10.2, 'cont': 'North America', 'area': 10714}, 'Nepal': {'popl': 31.0, 'cont': 'Asia', 'area': 56827}, 'Malaysia': {'popl': 30.1, 'cont': 'Asia', 'area': 127355}, 'Malta': {'popl': 0.41, 'cont': 'Europe', 'area': 121}, 'Bulgaria': {'popl': 6.9, 'cont': 'Europe', 'area': 42823}, 'Seychelles': {'popl': 0.092, 'cont': 'Africa', 'area': 174}, 'Lesotho': {'popl': 1.9, 'cont': 'Africa', 'area': 12727}, 'Poland': {'popl': 38.3, 'cont': 'Europe', 'area': 120726}, 'Trinidad and Tobago': {'popl': 1.2, 'cont': 'North America', 'area': 1978}, 'Portugal': {'popl': 10.9, 'cont': 'Europe', 'area': 35645}, 'Bosnia and Herzegovina': {'popl': 3.9, 'cont': 'Europe', 'area': 19767}, 'Rwanda': {'popl': 12.3, 'cont': 'Africa', 'area': 10169}, 'Gambia': {'popl': 1.9, 'cont': 'Africa', 'area': 4007}, 'Montenegro': {'popl': 0.65, 'cont': 'Europe', 'area': 5019}, 'Equatorial Guinea': {'popl': 0.72, 'cont': 'Africa', 'area': 10828}, 'Saudi Arabia': {'popl': 27.3, 'cont': 'Asia', 'area': 829996}, 'Grenada': {'popl': 0.11, 'cont': 'North America', 'area': 132}, 'Serbia': {'popl': 7.2, 'cont': 'Europe', 'area': 34116}, 'Bangladesh': {'popl': 166.3, 'cont': 'Asia', 'area': 55599}, 'Libyan Arab Jamahiriya': {'popl': 6.2, 'cont': 'Africa', 'area': 679359}, 'Chad': {'popl': 11.4, 'cont': 'Africa', 'area': 495753}, 'Central African Republic': {'popl': 5.3, 'cont': 'Africa', 'area': 240534}, 'Uganda': {'popl': 35.9, 'cont': 'Africa', 'area': 91136}, 'Cyprus': {'popl': 1.2, 'cont': 'Asia', 'area': 3572}, 'Tunisia': {'popl': 10.9, 'cont': 'Africa', 'area': 63170}, 'Hungary': {'popl': 10.0, 'cont': 'Europe', 'area': 35919}, 'Israel': {'popl': 7.8, 'cont': 'Asia', 'area': 8019}, 'Burkina Faso': {'popl': 18.4, 'cont': 'Africa', 'area': 105792}, 'Zimbabwe': {'popl': 13.8, 'cont': 'Africa', 'area': 150871}, 'Liechtenstein': {'popl': 0.037, 'cont': 'Europe', 'area': 62}, 'Botswana': {'popl': 2.2, 'cont': 'Africa', 'area': 224606}, 'Saint Lucia': {'popl': 0.16, 'cont': 'North America', 'area': 239}, 'Bahamas': {'popl': 0.32, 'cont': 'North America', 'area': 5358}, 'Oman': {'popl': 3.2, 'cont': 'Asia', 'area': 119498}, 'Denmark': {'popl': 5.6, 'cont': 'Europe', 'area': 16640}, \"Cote D'Ivoire\": {'popl': 22.8, 'cont': 'Africa', 'area': 124502}, 'Latvia': {'popl': 2.2, 'cont': 'Europe', 'area': 24938}, 'Sao Tome and Principe': {'popl': 0.19, 'cont': 'Africa', 'area': 372}, 'Republic of Moldova': {'popl': 3.6, 'cont': 'Europe', 'area': 13067}, 'Antigua and Barbuda': {'popl': 0.091, 'cont': 'North America', 'area': 108}, 'Nigeria': {'popl': 177.2, 'cont': 'Africa', 'area': 356669}, 'Japan': {'popl': 127.1, 'cont': 'Asia', 'area': 145883}, 'Estonia': {'popl': 1.3, 'cont': 'Europe', 'area': 17413}, 'Guinea': {'popl': 11.5, 'cont': 'Africa', 'area': 94926}, 'Belarus': {'popl': 9.6, 'cont': 'Europe', 'area': 80155}, 'United Kingdom': {'popl': 66.7, 'cont': 'Europe', 'area': 94526}, 'Solomon Islands': {'popl': 0.61, 'cont': 'Australia/Oceania', 'area': 43}, 'Angola': {'popl': 19.1, 'cont': 'Africa', 'area': 481354}, 'Bahrain': {'popl': 1.3, 'cont': 'Asia', 'area': 253}, 'Ethiopia': {'popl': 96.6, 'cont': 'Africa', 'area': 426371}, 'Austria': {'popl': 8.2, 'cont': 'Europe', 'area': 32383}, 'Switzerland': {'popl': 8.1, 'cont': 'Europe', 'area': 15940}, 'Uruguay': {'popl': 3.3, 'cont': 'South America', 'area': 68037}, \"Democratic People's Republic of Korea\": {'popl': 24.9, 'cont': 'Asia', 'area': 46528}, 'New Zealand': {'popl': 4.4, 'cont': 'Australia/Oceania', 'area': 103738}, 'Lithuania': {'popl': 3.5, 'cont': 'Europe', 'area': 25173}, 'Burundi': {'popl': 10.4, 'cont': 'Africa', 'area': 10745}, 'San Marino': {'popl': 0.033, 'cont': 'Europe', 'area': 23.6}, 'Guinea Bissau': {'popl': 1.7, 'cont': 'Africa', 'area': 13948}, 'United States': {'popl': 318.9, 'cont': 'North America', 'area': 3794066}, 'Pakistan': {'popl': 196.2, 'cont': 'Asia', 'area': 310403}, 'Afghanistan': {'popl': 31.8, 'cont': 'Asia', 'area': 251772}, 'United Arab Emirates': {'popl': 5.6, 'cont': 'Asia', 'area': 32278}, 'Brunei Darussalam': {'popl': 0.42, 'cont': 'Asia', 'area': 2226}, 'Germany': {'popl': 81.0, 'cont': 'Europe', 'area': 137847}, 'Marshall Islands': {'popl': 0.071, 'cont': 'Australia/Oceania', 'area': 69}, 'Sierra Leone': {'popl': 5.7, 'cont': 'Africa', 'area': 27699}, 'Canada': {'popl': 34.8, 'cont': 'North America', 'area': 3855000}, 'Mongolia': {'popl': 3.0, 'cont': 'Asia', 'area': 603909}, 'India': {'popl': 1236.3, 'cont': 'Asia', 'area': 1269210}, 'Costa Rica': {'popl': 4.8, 'cont': 'North America', 'area': 19730}, 'Turkey': {'popl': 81.6, 'cont': 'Asia', 'area': 302535}, 'Mali': {'popl': 16.5, 'cont': 'Africa', 'area': 478839}, 'Cuba': {'popl': 11.0, 'cont': 'North America', 'area': 42803}, 'Indonesia': {'popl': 253.6, 'cont': 'Asia', 'area': 735355}, 'Dominica': {'popl': 0.073, 'cont': 'North America', 'area': 290}, 'Kazakhstan': {'popl': 18.0, 'cont': 'Asia', 'area': 1052085}, 'South Sudan': {'popl': 11.6, 'cont': 'Africa', 'area': 239285}, 'Georgia': {'popl': 4.9, 'cont': 'Asia', 'area': 26916}, 'Belgium': {'popl': 10.4, 'cont': 'Europe', 'area': 11787}, 'Guyana': {'popl': 0.74, 'cont': 'South America', 'area': 83000}, 'Slovakia': {'popl': 5.4, 'cont': 'Europe', 'area': 18932}, 'Iraq': {'popl': 32.6, 'cont': 'Asia', 'area': 169234}, 'Uzbekistan': {'popl': 28.9, 'cont': 'Asia', 'area': 172742}, 'Iceland': {'popl': 0.32, 'cont': 'Europe', 'area': 39770}, 'Nauru': {'popl': 0.0095, 'cont': 'Australia/Oceania', 'area': 8}, 'Sri Lanka': {'popl': 22.9, 'cont': 'Asia', 'area': 25332}, 'Iran': {'popl': 80.8, 'cont': 'Asia', 'area': 636372}, 'Kenya': {'popl': 45.0, 'cont': 'Africa', 'area': 224080}, 'Guatemala': {'popl': 14.7, 'cont': 'North America', 'area': 42042}, 'Republic of Korea': {'popl': 49.0, 'cont': 'Asia', 'area': 38622}}\n"
     ]
    }
   ],
   "source": [
    "import pickle\n",
    "\n",
    "infile = open('data/UNDict.dat', 'rb')\n",
    "contries = pickle.load(infile) # dictiondary 형태로 파일을 읽어옴.\n",
    "infile.close()\n",
    "print(contries)\n"
   ]
  },
  {
   "cell_type": "code",
   "execution_count": 1,
   "metadata": {},
   "outputs": [
    {
     "ename": "TypeError",
     "evalue": "string argument without an encoding",
     "output_type": "error",
     "traceback": [
      "\u001b[1;31m---------------------------------------------------------------------------\u001b[0m",
      "\u001b[1;31mTypeError\u001b[0m                                 Traceback (most recent call last)",
      "Cell \u001b[1;32mIn[1], line 6\u001b[0m\n\u001b[0;32m      3\u001b[0m file\u001b[39m.\u001b[39mclose()\n\u001b[0;32m      5\u001b[0m file1 \u001b[39m=\u001b[39m \u001b[39mopen\u001b[39m(\u001b[39m'\u001b[39m\u001b[39mfile1.dat\u001b[39m\u001b[39m'\u001b[39m, \u001b[39m'\u001b[39m\u001b[39mwb\u001b[39m\u001b[39m'\u001b[39m)\n\u001b[1;32m----> 6\u001b[0m file1\u001b[39m.\u001b[39mwrite(\u001b[39mbytes\u001b[39;49m(\u001b[39m'\u001b[39;49m\u001b[39m100\u001b[39;49m\u001b[39m'\u001b[39;49m))\n\u001b[0;32m      7\u001b[0m file1\u001b[39m.\u001b[39mclose()\n",
      "\u001b[1;31mTypeError\u001b[0m: string argument without an encoding"
     ]
    }
   ],
   "source": [
    "file = open('file.txt', 'w')\n",
    "file.write('100')\n",
    "file.close()\n",
    "\n",
    "file1 = open('file1.dat', 'wb')\n",
    "file1.write(bytes('100'))\n",
    "file1.close()"
   ]
  },
  {
   "cell_type": "code",
   "execution_count": 1,
   "metadata": {},
   "outputs": [],
   "source": [
    "with open('file.txt', 'w') as file:\n",
    "    file.write('100')\n",
    "\n",
    "with open('file1.dat', 'wb') as file1:\n",
    "    file1.write(bytes('100', encoding='utf-8'))\n"
   ]
  }
 ],
 "metadata": {
  "kernelspec": {
   "display_name": "Python 3",
   "language": "python",
   "name": "python3"
  },
  "language_info": {
   "codemirror_mode": {
    "name": "ipython",
    "version": 3
   },
   "file_extension": ".py",
   "mimetype": "text/x-python",
   "name": "python",
   "nbconvert_exporter": "python",
   "pygments_lexer": "ipython3",
   "version": "3.11.4"
  },
  "orig_nbformat": 4
 },
 "nbformat": 4,
 "nbformat_minor": 2
}
