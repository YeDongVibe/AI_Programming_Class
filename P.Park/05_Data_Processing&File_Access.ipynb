{
 "cells": [
  {
   "cell_type": "markdown",
   "metadata": {},
   "source": [
    "# File Access"
   ]
  },
  {
   "cell_type": "code",
   "execution_count": 3,
   "metadata": {},
   "outputs": [
    {
     "name": "stdout",
     "output_type": "stream",
     "text": [
      "George Washington\n",
      "John Adams\n",
      "Thomas Jefferson\n",
      "['George Washington', 'John Adams', 'Thomas Jefferson']\n"
     ]
    }
   ],
   "source": [
    "def displaywithForLoop(file):\n",
    "    infile = open(file, 'r')\n",
    "    for line in infile:\n",
    "        print(line.rstrip())\n",
    "    infile.close()\n",
    "\n",
    "\n",
    "def displayWithListComprehension(file):\n",
    "    infile = open(file, 'r')\n",
    "    listPres = [line.rstrip() for line in infile]\n",
    "    infile.close()\n",
    "    print(listPres)\n",
    "\n",
    "displaywithForLoop('data/FirstPresidents.txt')\n",
    "displayWithListComprehension('data/FirstPresidents.txt')"
   ]
  },
  {
   "cell_type": "code",
   "execution_count": 5,
   "metadata": {},
   "outputs": [],
   "source": [
    "def main():\n",
    "    L = ['George Washington', 'John Adams', 'Thomas Jefferson']\n",
    "    outfile = open('data/FirstPresidents1.txt', 'w')\n",
    "    createWithWrite(L, outfile)\n",
    "    outfile = open('data/FirstPresidents2.txt', 'w')\n",
    "    createWithWritelines(L, outfile)\n",
    "\n",
    "def createWithWrite(L, outfile):\n",
    "    for i in range(len(L)):\n",
    "        outfile.write(L[i] + '\\n')\n",
    "    outfile.close()\n",
    "    \n",
    "def createWithWritelines(L, outfile):\n",
    "    for i in range(len(L)):\n",
    "        L[i] = L[i] + '\\n'\n",
    "    outfile.writelines(L)\n",
    "    outfile.close()\n",
    "    \n",
    "main()"
   ]
  },
  {
   "cell_type": "code",
   "execution_count": 8,
   "metadata": {},
   "outputs": [],
   "source": [
    "def main():\n",
    "    vicePreList = crateListFromFile('data/VPres.txt')\n",
    "    createNewfile(vicePreList, 'data/USPres.txt', 'data/Both.txt')\n",
    "    \n",
    "def crateListFromFile(fileName):\n",
    "    infile = open(fileName, 'r')\n",
    "    desiredList = [line.rstrip() for line in infile]\n",
    "    infile.close()\n",
    "    return desiredList\n",
    "\n",
    "def createNewfile(listName, oldFileName, newFileName):\n",
    "    infile = open(oldFileName, 'r')\n",
    "    outfile = open(newFileName, 'w')\n",
    "    for person in infile:\n",
    "        if person.rstrip() in listName:\n",
    "            outfile.write(person)\n",
    "    infile.close()\n",
    "    outfile.close()\n",
    "    \n",
    "main()"
   ]
  },
  {
   "cell_type": "markdown",
   "metadata": {},
   "source": [
    "# Set"
   ]
  },
  {
   "cell_type": "code",
   "execution_count": 13,
   "metadata": {},
   "outputs": [
    {
     "name": "stdout",
     "output_type": "stream",
     "text": [
      "india in bri :  True\n",
      "usa in bri :  False\n",
      "bri :  {'brazil', 'india'}\n",
      "bric :  {'brazil', 'india', 'china', 'russia'}\n",
      "bric.issuperset(bri) :  True\n",
      "bri & bric :  {'brazil', 'india'}\n",
      "bric.difference(bri) :  {'russia', 'china'}\n",
      "bric.union(bri) :  {'russia', 'brazil', 'india', 'china'}\n"
     ]
    }
   ],
   "source": [
    "bri = {'brazil', 'russia', 'india'}\n",
    "print('india in bri : ', 'india' in bri)\n",
    "\n",
    "print('usa in bri : ', 'usa' in bri)\n",
    "\n",
    "bric = bri.copy()\n",
    "bric.add('china')\n",
    "bri.remove('russia')\n",
    "print('bri : ', bri)\n",
    "print('bric : ', bric)\n",
    "print('bric.issuperset(bri) : ', bric.issuperset(bri))\n",
    "\n",
    "print('bri & bric : ', bri & bric)\n",
    "print('bric.difference(bri) : ', bric.difference(bri))\n",
    "print('bric.union(bri) : ', bric.union(bri))"
   ]
  },
  {
   "cell_type": "markdown",
   "metadata": {},
   "source": [
    "# CSV File"
   ]
  },
  {
   "cell_type": "code",
   "execution_count": 18,
   "metadata": {},
   "outputs": [
    {
     "name": "stdout",
     "output_type": "stream",
     "text": [
      "Argentina\n",
      "Bolivia\n",
      "Brazil\n",
      "Chile\n",
      "Colombia\n",
      "Ecuador\n",
      "Guyana\n",
      "Paraguay\n",
      "Peru\n",
      "Suriname\n",
      "Uruguay\n",
      "Venezuela\n"
     ]
    }
   ],
   "source": [
    "def main():\n",
    "    continent = input('Enter the name of a continent : ')\n",
    "    continent = continent.title()\n",
    "    if continent != \"Antarctica\":\n",
    "        infile = open('data/UN.txt', 'r')\n",
    "        for line in infile:\n",
    "            data = line.split(',')\n",
    "            if data[1] == continent:\n",
    "                print(data[0])\n",
    "    else:\n",
    "        print(\"There are no countreis in Antarctica.\")\n",
    "main()"
   ]
  },
  {
   "cell_type": "markdown",
   "metadata": {},
   "source": [
    "# Dictionary"
   ]
  },
  {
   "cell_type": "code",
   "execution_count": 20,
   "metadata": {},
   "outputs": [
    {
     "name": "stdout",
     "output_type": "stream",
     "text": [
      "{'one': 1, 'two': 2, 'three': 3}\n",
      "{'one': 1, 'two': 2, 'three': 3}\n"
     ]
    }
   ],
   "source": [
    "list1 = [['one', 1],['two', 2], ['three', 3]]\n",
    "print(dict(list1))\n",
    "\n",
    "list2 = [('one', 1), ('two', 2), ('three', 3)]\n",
    "print(dict(list2))"
   ]
  },
  {
   "cell_type": "code",
   "execution_count": 32,
   "metadata": {},
   "outputs": [
    {
     "name": "stdout",
     "output_type": "stream",
     "text": [
      "ab\n",
      "kim:ab\n",
      "lee:abc\n",
      "ab\n",
      "abc\n",
      "kim\n",
      "lee\n",
      "(0, ('kim', 'ab'))\n",
      "(1, ('lee', 'abc'))\n",
      "0 kim ab\n",
      "1 lee abc\n"
     ]
    }
   ],
   "source": [
    "addr = {'kim':'ab', 'lee':'abc'}\n",
    "print(addr['kim'])\n",
    "\n",
    "for key, value in addr.items(): # 첫번째 값을 key, 두번째 값을 value로 넣음\n",
    "    print('{}:{}'.format(key, value))\n",
    "\n",
    "for v in addr.values(): # value만 출력됨.\n",
    "    print(v)\n",
    "\n",
    "for v in addr: # dictionary를 그냥 출력하면 key만 출력됨.\n",
    "    print(v)\n",
    "    \n",
    "for v in enumerate(addr.items()): # key, value의 순서를 함께 출력\n",
    "    print(v)\n",
    "    \n",
    "for i, (key, value) in enumerate(addr.items()): # i, key, value를 출력 / ()를 안쓰면 출력 X -> 크게 보았을 때 출력 가능한 크기가 2라서 맞지 않음\n",
    "    print(i, key, value)\n",
    "\n",
    "\n"
   ]
  },
  {
   "cell_type": "code",
   "execution_count": 38,
   "metadata": {},
   "outputs": [
    {
     "name": "stdout",
     "output_type": "stream",
     "text": [
      "Admission fee is  8\n"
     ]
    }
   ],
   "source": [
    "def main():\n",
    "    AgeGroup = input('(c,m,a, or s) : ')\n",
    "    print('Admission fee is ', determin(AgeGroup))\n",
    "\n",
    "def determin(AgeGroup):\n",
    "    dict = {'c' : 0, 'm' : 5, 'a' : 10, 's' : 8}\n",
    "    return dict[AgeGroup]\n",
    "\n",
    "main()"
   ]
  }
 ],
 "metadata": {
  "kernelspec": {
   "display_name": "Python 3",
   "language": "python",
   "name": "python3"
  },
  "language_info": {
   "codemirror_mode": {
    "name": "ipython",
    "version": 3
   },
   "file_extension": ".py",
   "mimetype": "text/x-python",
   "name": "python",
   "nbconvert_exporter": "python",
   "pygments_lexer": "ipython3",
   "version": "3.11.4"
  },
  "orig_nbformat": 4
 },
 "nbformat": 4,
 "nbformat_minor": 2
}
