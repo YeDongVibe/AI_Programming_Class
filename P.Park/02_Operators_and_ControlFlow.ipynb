{
 "cells": [
  {
   "cell_type": "code",
   "execution_count": null,
   "metadata": {},
   "outputs": [],
   "source": [
    "#5 > 3 and 3 < 7 이런 뜻\n",
    "#5랑 7은 전혀 상관이 없음\n",
    "5 > 3 < 7"
   ]
  },
  {
   "cell_type": "code",
   "execution_count": null,
   "metadata": {},
   "outputs": [],
   "source": [
    "#short-circuit evaluation\n",
    "l = 10\n",
    "m = 5\n",
    "n = 0\n",
    "(n != 0) and (l == (m/n)) #0으로 나눌수 없음. and를 붙이는 순간 ZeroDivisionError가 안 뜸\n",
    "#상기의 경우, 첫 조건이 False 임으로 뒤가 False든지 True든지 뭐든지 일단 값이 False가 나옴으로 결과값이 False가 나옴, 뒤의 식을 계산하지 않음\n",
    "#m/n # 이 경우에는 ZeroDivisionError 가 뜸\n",
    "(l == (m/n)) and (n != 0)\n",
    "#상기의 경우, 앞이 먼저 계산되는데 에러가 있기 때문에 순서에 따라 다른 결과가 도출된다."
   ]
  },
  {
   "attachments": {},
   "cell_type": "markdown",
   "metadata": {},
   "source": [
    "if~elif"
   ]
  },
  {
   "cell_type": "code",
   "execution_count": null,
   "metadata": {},
   "outputs": [],
   "source": [
    "number = 23\n",
    "guess = int(input('Enter an integer: '))\n",
    "\n",
    "if guess == number:\n",
    "    print('Correct')\n",
    "else:\n",
    "    if guess < number:\n",
    "        print('Incorrect!! it is a little higher than that')\n",
    "    else:\n",
    "        print('Incorrect! it is a little lower than that')\n",
    "print('Done')"
   ]
  },
  {
   "cell_type": "code",
   "execution_count": null,
   "metadata": {},
   "outputs": [],
   "source": [
    "#elif 사용\n",
    "number = 23\n",
    "guess = int(input('Enter an integer: '))\n",
    "print('input number: ', guess)\n",
    "\n",
    "if guess == number:\n",
    "    print('Correct')\n",
    "elif guess < number:\n",
    "        print('Incorrect!! it is a little higher than that')\n",
    "else:\n",
    "    print('Incorrect! it is a little lower than that')\n",
    "print('Done')"
   ]
  },
  {
   "attachments": {},
   "cell_type": "markdown",
   "metadata": {},
   "source": [
    "whlie loop"
   ]
  },
  {
   "cell_type": "code",
   "execution_count": null,
   "metadata": {},
   "outputs": [],
   "source": [
    "number = 23\n",
    "running = True\n",
    "\n",
    "while (running) :\n",
    "    guess = int(input('Enter an integer : '))\n",
    "    if (guess == number) :\n",
    "        print('Congratulation, You guessed it!')\n",
    "        running = False\n",
    "    elif(guess < number) :\n",
    "        print('No, It is a little higher than that.')\n",
    "    else : \n",
    "        print('No, It is a little lower than that.')\n",
    "else : \n",
    "    print('The while loop is over.')\n",
    "print('Done')"
   ]
  },
  {
   "cell_type": "code",
   "execution_count": null,
   "metadata": {},
   "outputs": [],
   "source": [
    "count = 0\n",
    "total = 0\n",
    "\n",
    "print('Enter -1 to termin_valate entering numbers.')\n",
    "num = int (input('Enter a nonnegative integer : '))\n",
    "min_val = num\n",
    "max_val = num\n",
    "\n",
    "while (num != -1) : \n",
    "    count += 1\n",
    "    total += num\n",
    "    if (num < min_val) : \n",
    "        min_val = num\n",
    "    if (num > max_val) :\n",
    "        max_val = num\n",
    "    num = int(input('Enter a nonnegative integer : '))\n",
    "    if(count > 0) :\n",
    "        print('Min_val : ', min_val )\n",
    "        print('Max_val : ', max_val)\n",
    "        print('Avg : ', total/count)\n",
    "    if(count > 4):\n",
    "        print('you entered over 5 counts')\n",
    "        print('number counts is ', count)\n",
    "    else : \n",
    "        print('No nonnegative integers were entered.')            "
   ]
  },
  {
   "attachments": {},
   "cell_type": "markdown",
   "metadata": {},
   "source": [
    "For Loop\n",
    "* while 문과 for문과 차이 : for는 들어가있는 조건의 개수만큼 반복"
   ]
  },
  {
   "cell_type": "code",
   "execution_count": null,
   "metadata": {},
   "outputs": [],
   "source": [
    "numRoows = int(input('Enter a number form 1 to 20 : '))\n",
    "\n",
    "for i in range(numRoows) : \n",
    "    for j in range (i + 1) : \n",
    "        print('*', end='')\n",
    "    print()"
   ]
  },
  {
   "cell_type": "code",
   "execution_count": null,
   "metadata": {},
   "outputs": [],
   "source": [
    "numRoows = int(input('Enter a number form 1 to 20 : '))\n",
    "\n",
    "for i in range(numRoows) : \n",
    "    for j in range (i + 1) : \n",
    "        print('*', end='')\n",
    "    for j in range(numRoows-i-1):\n",
    "        print('+', end='')\n",
    "    print()\n",
    "for i in range(numRoows) : \n",
    "    for j in range (numRoows-i-1) : \n",
    "        print('*', end='')\n",
    "    for j in range(i + 1):\n",
    "        print('+', end='')\n",
    "    print()"
   ]
  },
  {
   "cell_type": "code",
   "execution_count": null,
   "metadata": {},
   "outputs": [],
   "source": [
    "word = input('Enter a word : ')\n",
    "reWord = ''\n",
    "\n",
    "for ch in word : \n",
    "    reWord = ch + reWord\n",
    "print(\"The reversed word is \", reWord, '.')\n",
    "\n",
    "print('use function : ', end='')\n",
    "\n",
    "print(word[::-1])\n",
    "\n",
    "# list를 str처럼 나타내기 : ''.join(list(reversed(word)))하면 빈 문자열을 각 리스트로 조인하기"
   ]
  },
  {
   "cell_type": "code",
   "execution_count": 8,
   "metadata": {},
   "outputs": [
    {
     "name": "stdout",
     "output_type": "stream",
     "text": [
      "abced\n",
      "abced\n"
     ]
    }
   ],
   "source": [
    "word = input('Enter a word : ')\n",
    "reWord = ''\n",
    "\n",
    "print(word[0:3]+word[4:2:-1])\n",
    "print(word[:-2]+word[-1:-3:-1])\n",
    "\n",
    "\n",
    "# list를 str처럼 나타내기 : ''.join(list(reversed(word)))하면 빈 문자열을 각 리스트로 조인하기"
   ]
  },
  {
   "attachments": {},
   "cell_type": "markdown",
   "metadata": {},
   "source": [
    "File Open"
   ]
  },
  {
   "cell_type": "code",
   "execution_count": 39,
   "metadata": {},
   "outputs": [
    {
     "name": "stdout",
     "output_type": "stream",
     "text": [
      "123\n",
      "456\n",
      "abcde\n"
     ]
    }
   ],
   "source": [
    "infile = open('text.txt', 'r')\n",
    "\n",
    "for s in infile : \n",
    "    print(s.strip())\n",
    "    # print(s, end='')\n",
    "    \n",
    "infile.close()"
   ]
  },
  {
   "cell_type": "code",
   "execution_count": 43,
   "metadata": {},
   "outputs": [
    {
     "name": "stdout",
     "output_type": "stream",
     "text": [
      "abcde\n"
     ]
    }
   ],
   "source": [
    "# 마지막 줄만 출력하기\n",
    "infile = open('text.txt', 'r')\n",
    "for line in infile:\n",
    "    pass # for문이 실행할 Body가 없어서 아무것도 없을 시 만약 pass가 필요하다.\n",
    "print(line.strip())\n",
    "infile.close()"
   ]
  },
  {
   "attachments": {},
   "cell_type": "markdown",
   "metadata": {},
   "source": [
    "Break Statement\n",
    "* 반복문 탈출!"
   ]
  },
  {
   "attachments": {},
   "cell_type": "markdown",
   "metadata": {},
   "source": [
    "Continue Statement\n",
    "* 다시 처음으로 돌아가 다음 루프로 진행"
   ]
  },
  {
   "cell_type": "code",
   "execution_count": 48,
   "metadata": {},
   "outputs": [
    {
     "name": "stdout",
     "output_type": "stream",
     "text": [
      "hello is of sufficient length\n",
      "a Too short!\n"
     ]
    }
   ],
   "source": [
    "while True : \n",
    "    s = input('Enter something sentence: ')\n",
    "    if(s == 'quit'):\n",
    "        break\n",
    "    if(len(s) < 3) : \n",
    "        print(s, end='')\n",
    "        print(' is Too short!')\n",
    "        continue\n",
    "    print(s,end='')\n",
    "    print(' is of sufficient length')"
   ]
  }
 ],
 "metadata": {
  "kernelspec": {
   "display_name": "Python 3",
   "language": "python",
   "name": "python3"
  },
  "language_info": {
   "codemirror_mode": {
    "name": "ipython",
    "version": 3
   },
   "file_extension": ".py",
   "mimetype": "text/x-python",
   "name": "python",
   "nbconvert_exporter": "python",
   "pygments_lexer": "ipython3",
   "version": "3.11.4"
  },
  "orig_nbformat": 4
 },
 "nbformat": 4,
 "nbformat_minor": 2
}
