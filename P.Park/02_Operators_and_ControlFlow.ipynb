{
 "cells": [
  {
   "cell_type": "code",
   "execution_count": null,
   "metadata": {},
   "outputs": [],
   "source": [
    "#5 > 3 and 3 < 7 이런 뜻\n",
    "#5랑 7은 전혀 상관이 없음\n",
    "5 > 3 < 7"
   ]
  },
  {
   "cell_type": "code",
   "execution_count": null,
   "metadata": {},
   "outputs": [],
   "source": [
    "#short-circuit evaluation\n",
    "l = 10\n",
    "m = 5\n",
    "n = 0\n",
    "(n != 0) and (l == (m/n)) #0으로 나눌수 없음. and를 붙이는 순간 ZeroDivisionError가 안 뜸\n",
    "#상기의 경우, 첫 조건이 False 임으로 뒤가 False든지 True든지 뭐든지 일단 값이 False가 나옴으로 결과값이 False가 나옴, 뒤의 식을 계산하지 않음\n",
    "#m/n # 이 경우에는 ZeroDivisionError 가 뜸\n",
    "(l == (m/n)) and (n != 0)\n",
    "#상기의 경우, 앞이 먼저 계산되는데 에러가 있기 때문에 순서에 따라 다른 결과가 도출된다."
   ]
  },
  {
   "attachments": {},
   "cell_type": "markdown",
   "metadata": {},
   "source": [
    "if~elif"
   ]
  },
  {
   "cell_type": "code",
   "execution_count": null,
   "metadata": {},
   "outputs": [],
   "source": [
    "number = 23\n",
    "guess = int(input('Enter an integer: '))\n",
    "\n",
    "if guess == number:\n",
    "    print('Correct')\n",
    "else:\n",
    "    if guess < number:\n",
    "        print('Incorrect!! it is a little higher than that')\n",
    "    else:\n",
    "        print('Incorrect! it is a little lower than that')\n",
    "print('Done')"
   ]
  },
  {
   "cell_type": "code",
   "execution_count": null,
   "metadata": {},
   "outputs": [],
   "source": [
    "#elif 사용\n",
    "number = 23\n",
    "guess = int(input('Enter an integer: '))\n",
    "print('input number: ', guess)\n",
    "\n",
    "if guess == number:\n",
    "    print('Correct')\n",
    "elif guess < number:\n",
    "        print('Incorrect!! it is a little higher than that')\n",
    "else:\n",
    "    print('Incorrect! it is a little lower than that')\n",
    "print('Done')"
   ]
  },
  {
   "attachments": {},
   "cell_type": "markdown",
   "metadata": {},
   "source": [
    "whlie loop"
   ]
  },
  {
   "cell_type": "code",
   "execution_count": null,
   "metadata": {},
   "outputs": [],
   "source": [
    "number = 23\n",
    "running = True\n",
    "\n",
    "while (running) :\n",
    "    guess = int(input('Enter an integer : '))\n",
    "    if (guess == number) :\n",
    "        print('Congratulation, You guessed it!')\n",
    "        running = False\n",
    "    elif(guess < number) :\n",
    "        print('No, It is a little higher than that.')\n",
    "    else : \n",
    "        print('No, It is a little lower than that.')\n",
    "else : \n",
    "    print('The while loop is over.')\n",
    "print('Done')"
   ]
  },
  {
   "cell_type": "code",
   "execution_count": 5,
   "metadata": {},
   "outputs": [
    {
     "name": "stdout",
     "output_type": "stream",
     "text": [
      "Enter -1 to terminate entering numbers.\n"
     ]
    }
   ],
   "source": [
    "count = 0\n",
    "total = 0\n",
    "\n",
    "print('Enter -1 to termin_valate entering numbers.')\n",
    "num = int (input('Enter a nonnegative integer : '))\n",
    "min_val = num\n",
    "max_val = num\n",
    "\n",
    "while (num != -1) : \n",
    "    count += 1\n",
    "    total += num\n",
    "    if (num < min_val) : \n",
    "        min_val = num\n",
    "    if (num > max_val) :\n",
    "        max_val = num\n",
    "    num = int(input('Enter a nonnegative integer : '))\n",
    "    if(count > 0) :\n",
    "        print('Min_val : ', min_val )\n",
    "        print('Max_val : ', max_val)\n",
    "        print('Avg : ', total/count)\n",
    "    if(count > 4):\n",
    "        print('you entered over 5 counts')\n",
    "        print('number counts is ', count)\n",
    "    else : \n",
    "        print('No nonnegative integers were entered.')            "
   ]
  },
  {
   "attachments": {},
   "cell_type": "markdown",
   "metadata": {},
   "source": [
    "For Loop\n",
    "* while 문과 for문과 차이 : for는 들어가있는 조건의 개수만큼 반복"
   ]
  },
  {
   "cell_type": "code",
   "execution_count": 6,
   "metadata": {},
   "outputs": [
    {
     "name": "stdout",
     "output_type": "stream",
     "text": [
      "*\n",
      "**\n",
      "***\n",
      "****\n",
      "*****\n",
      "******\n",
      "*******\n",
      "********\n",
      "*********\n",
      "**********\n",
      "***********\n",
      "************\n",
      "*************\n",
      "**************\n",
      "***************\n",
      "****************\n",
      "*****************\n",
      "******************\n",
      "*******************\n",
      "********************\n"
     ]
    }
   ],
   "source": [
    "numRoows = int(input('Enter a number form 1 to 20 : '))\n",
    "\n",
    "for i in range(numRoows) : \n",
    "    for j in range (i + 1) : \n",
    "        print('*', end='')\n",
    "    print()"
   ]
  },
  {
   "cell_type": "code",
   "execution_count": 22,
   "metadata": {},
   "outputs": [
    {
     "name": "stdout",
     "output_type": "stream",
     "text": [
      " +++++\n",
      " +++++* ++++\n",
      " +++++* ++++** +++\n",
      " +++++* ++++** +++*** ++\n",
      " +++++* ++++** +++*** ++**** +\n"
     ]
    }
   ],
   "source": [
    "numRoows = int(input('Enter a number form 1 to 20 : '))\n",
    "\n",
    "for i in range(numRoows) : \n",
    "    for j in range (i + 1) : \n",
    "        print('*', end='')\n",
    "    print()"
   ]
  }
 ],
 "metadata": {
  "kernelspec": {
   "display_name": "Python 3",
   "language": "python",
   "name": "python3"
  },
  "language_info": {
   "codemirror_mode": {
    "name": "ipython",
    "version": 3
   },
   "file_extension": ".py",
   "mimetype": "text/x-python",
   "name": "python",
   "nbconvert_exporter": "python",
   "pygments_lexer": "ipython3",
   "version": "3.11.4"
  },
  "orig_nbformat": 4
 },
 "nbformat": 4,
 "nbformat_minor": 2
}
