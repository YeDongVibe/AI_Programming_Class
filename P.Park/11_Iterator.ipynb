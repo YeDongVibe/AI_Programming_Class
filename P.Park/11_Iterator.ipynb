{
 "cells": [
  {
   "cell_type": "markdown",
   "metadata": {},
   "source": [
    "# 이터레이터\n",
    "- 이터레이터(iterator)는 값을 차례대로 꺼낼 수 있는 객체(object)\n",
    "- 파이썬에서는 이터레이터만 생성하고 값이 필요한 시점이 되었을 때 값을 만드는 방식을 사용 ->  메모리 차지 X"
   ]
  },
  {
   "cell_type": "code",
   "execution_count": 3,
   "metadata": {},
   "outputs": [
    {
     "data": {
      "text/plain": [
       "['__add__',\n",
       " '__class__',\n",
       " '__class_getitem__',\n",
       " '__contains__',\n",
       " '__delattr__',\n",
       " '__dir__',\n",
       " '__doc__',\n",
       " '__eq__',\n",
       " '__format__',\n",
       " '__ge__',\n",
       " '__getattribute__',\n",
       " '__getitem__',\n",
       " '__getnewargs__',\n",
       " '__getstate__',\n",
       " '__gt__',\n",
       " '__hash__',\n",
       " '__init__',\n",
       " '__init_subclass__',\n",
       " '__iter__',\n",
       " '__le__',\n",
       " '__len__',\n",
       " '__lt__',\n",
       " '__mul__',\n",
       " '__ne__',\n",
       " '__new__',\n",
       " '__reduce__',\n",
       " '__reduce_ex__',\n",
       " '__repr__',\n",
       " '__rmul__',\n",
       " '__setattr__',\n",
       " '__sizeof__',\n",
       " '__str__',\n",
       " '__subclasshook__',\n",
       " 'count',\n",
       " 'index']"
      ]
     },
     "execution_count": 3,
     "metadata": {},
     "output_type": "execute_result"
    }
   ],
   "source": [
    "dir([1, 2, 3]) # 반복 가능한 객체 확인\n",
    "dir({1, 2, 3})\n",
    "dir((1, 2, 3))"
   ]
  },
  {
   "cell_type": "code",
   "execution_count": 4,
   "metadata": {},
   "outputs": [
    {
     "data": {
      "text/plain": [
       "<list_iterator at 0x219a0e34d60>"
      ]
     },
     "execution_count": 4,
     "metadata": {},
     "output_type": "execute_result"
    }
   ],
   "source": [
    "L = [1, 2, 3]\n",
    "L.__iter__()"
   ]
  },
  {
   "cell_type": "code",
   "execution_count": 12,
   "metadata": {},
   "outputs": [
    {
     "name": "stdout",
     "output_type": "stream",
     "text": [
      "1\n",
      "2\n",
      "3\n"
     ]
    }
   ],
   "source": [
    "L = [1, 2, 3]\n",
    "it = iter(L)\n",
    "print(it.__next__()) # 요소를 차례대로 꺼내기\n",
    "print(next(it))\n",
    "print(it.__next__())\n"
   ]
  },
  {
   "cell_type": "code",
   "execution_count": 37,
   "metadata": {},
   "outputs": [
    {
     "name": "stdout",
     "output_type": "stream",
     "text": [
      "0\n",
      "1\n",
      "2\n",
      "10\n",
      "10\n"
     ]
    }
   ],
   "source": [
    "it = iter(range(3))\n",
    "print(next(it, 10))\n",
    "print(next(it, 10))\n",
    "print(next(it, 10))\n",
    "print(next(it, 10))\n",
    "print(next(it, 10))\n",
    "# 기본값을 넣어주면 반복이 끝날때 기본값이 출력된다."
   ]
  },
  {
   "cell_type": "markdown",
   "metadata": {},
   "source": [
    "# 이터레이터 만들기\n"
   ]
  },
  {
   "cell_type": "code",
   "execution_count": 18,
   "metadata": {},
   "outputs": [
    {
     "name": "stdout",
     "output_type": "stream",
     "text": [
      "0 1 2 \n",
      "--------------------------------------------------\n",
      "0 1 2 "
     ]
    }
   ],
   "source": [
    "class Counter:\n",
    "    def __init__(self, stop):\n",
    "        self._current = 0  # 현재 숫자 유지, 0부터 지정된 숫자 직전까지 반복\n",
    "        self._stop = stop # 반복을 끝낼 숫자\n",
    " \n",
    "    def __iter__(self):\n",
    "        return self # 현재 인스턴스를 반환\n",
    " \n",
    "    def __next__(self):\n",
    "        if self._current < self._stop: # 현재 숫자가 반복을 끝낼 숫자보다 작을 때\n",
    "            r = self._current # 반환할 숫자를 변수에 저장\n",
    "            self._current += 1 # 현재 숫자를 1 증가시킴\n",
    "            return r # 숫자를 반환\n",
    "        else: # 현재 숫자가 반복을 끝낼 숫자보다 크거나 같을 때\n",
    "            raise StopIteration # 예외 발생\n",
    " \n",
    "for i in Counter(3):\n",
    "    print(i, end=' ')\n",
    "\n",
    "print()\n",
    "print('-'*50)\n",
    "\n",
    "for i in range(3):\n",
    "    print(i, end=' ')"
   ]
  },
  {
   "cell_type": "code",
   "execution_count": 33,
   "metadata": {},
   "outputs": [
    {
     "name": "stdout",
     "output_type": "stream",
     "text": [
      "0 1 짝 홀 짝 \n",
      "--------------------------------------------------\n",
      "짝 홀 짝 \n",
      "--------------------------------------------------\n",
      "짝 짝 홀 짝 \n",
      "--------------------------------------------------\n",
      "0 1 2 3 4 "
     ]
    }
   ],
   "source": [
    "class Counter:\n",
    "    def __init__(self, *args):\n",
    "        if len(args) == 1: # 1개이면 원래대로 동작\n",
    "            self._current = 0\n",
    "            self._stop = args[0]\n",
    "            self._interval = 1 # 간격\n",
    "        elif len(args) == 2: # 2개이면 시작점 지정\n",
    "            self._current = args[0]\n",
    "            self._stop = args[1]\n",
    "            self._interval = 1\n",
    "        elif len(args) == 3: # 3개이면 간격까지 고려\n",
    "            self._current = args[0]\n",
    "            self._stop = args[1]\n",
    "            self._interval  = args[2]\n",
    "        else:\n",
    "            raise TypeError(f\"Counter() takes 1 or 2 positional arguments but {len(args)} were given\")\n",
    "    def __iter__(self):\n",
    "        return self # 현재 인스턴스를 반환\n",
    " \n",
    "    def __next__(self): # batch size 결정하는 매커니즘과 비슷함\n",
    "        if self._current < self._stop: # 현재 숫자가 반복을 끝낼 숫자보다 작을 때\n",
    "            r = self._current # 반환할 숫자를 변수에 저장\n",
    "            self._current += self._interval\n",
    "            if (r > 0 and r % 3 == 0):\n",
    "                r = '홀'\n",
    "            elif(r > 0 and r % 2 == 0):\n",
    "                r = '짝'\n",
    "            return r # 숫자를 반환\n",
    "\n",
    "        else: # 현재 숫자가 반복을 끝낼 숫자보다 크거나 같을 때\n",
    "            raise StopIteration # 예외 발생\n",
    " \n",
    "for i in Counter(5):\n",
    "    print(i, end=' ')\n",
    "\n",
    "print()\n",
    "print('-'*50)\n",
    "\n",
    "for i in Counter(2,5): #시작과 끝 지정\n",
    "    print(i, end=' ')\n",
    "\n",
    "print()\n",
    "print('-'*50)\n",
    "\n",
    "for i in Counter(2, 10, 2): # 간격까지 고려\n",
    "    print(i, end=' ')\n",
    "\n",
    "print()\n",
    "print('-'*50)\n",
    "\n",
    "\n",
    "for i in range(5):\n",
    "    print(i, end=' ')"
   ]
  },
  {
   "cell_type": "markdown",
   "metadata": {},
   "source": [
    "# 인덱스로 이터레이터 접근\n"
   ]
  },
  {
   "cell_type": "code",
   "execution_count": 36,
   "metadata": {},
   "outputs": [
    {
     "name": "stdout",
     "output_type": "stream",
     "text": [
      "0 1 2\n",
      "--------------------------------------------------\n",
      "0 1 2 "
     ]
    }
   ],
   "source": [
    "class Counter:\n",
    "    def __init__(self, stop):\n",
    "        self.stop = stop # 반복을 끝낼 숫자\n",
    " \n",
    "    def __getitem__(self, index): # 인덱스를 받음\n",
    "        if index < self.stop: # 인덱스가 반복을 끝낼 숫자보다 작을 때\n",
    "            return index # 인덱스를 반환\n",
    "        else:  # 인덱스가 반복을 끝낼 숫자보다 크거나 같을 때\n",
    "            raise IndexError # 예외 발생\n",
    " \n",
    "print(Counter(3)[0], Counter(3)[1], Counter(3)[2])\n",
    "\n",
    "print('-'*50)\n",
    "\n",
    "for i in Counter(3):\n",
    "    print(i, end=' ')"
   ]
  }
 ],
 "metadata": {
  "kernelspec": {
   "display_name": "Python 3",
   "language": "python",
   "name": "python3"
  },
  "language_info": {
   "codemirror_mode": {
    "name": "ipython",
    "version": 3
   },
   "file_extension": ".py",
   "mimetype": "text/x-python",
   "name": "python",
   "nbconvert_exporter": "python",
   "pygments_lexer": "ipython3",
   "version": "3.11.4"
  },
  "orig_nbformat": 4
 },
 "nbformat": 4,
 "nbformat_minor": 2
}
