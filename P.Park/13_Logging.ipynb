{
 "cells": [
  {
   "cell_type": "markdown",
   "metadata": {},
   "source": [
    "# Log\n",
    "- 이전 동작의 기록물"
   ]
  },
  {
   "cell_type": "markdown",
   "metadata": {},
   "source": [
    "- 레벨\t로깅 함수\t사용할 때\n",
    "- DEBUG\tdebug()\t상세한 정보를 출력\n",
    "- INFO\tinfo()\t예상대로 작동하는지를 확인\n",
    "- WARNING\twarning()\t소프트웨어는 정상 동작하는데 예상치 못한 일이 발생한 것에 대해 표시\n",
    "- ERROR\terror()\t소프트웨어의 일부가 정상적으로 동작하지 않는 경우에 대해 표시\n",
    "- CRITICAL\tcritical()\t심각한 에러 상황에 대해 표시"
   ]
  },
  {
   "cell_type": "code",
   "execution_count": 1,
   "metadata": {},
   "outputs": [
    {
     "name": "stderr",
     "output_type": "stream",
     "text": [
      "DEBUG:root:Debug >> input: 3 4, output=7\n",
      "INFO:root:info >> input: 3 4, output=7\n",
      "WARNING:root:warring >> input: 3 4, output=7\n",
      "ERROR:root:error >> input: 3 4, output=7\n",
      "CRITICAL:root:critical >> input: 3 4, output=7\n"
     ]
    },
    {
     "data": {
      "text/plain": [
       "7"
      ]
     },
     "execution_count": 1,
     "metadata": {},
     "output_type": "execute_result"
    }
   ],
   "source": [
    "import logging\n",
    "\n",
    "logging.basicConfig(level=logging.DEBUG) # 이 코드로 인해 출력이 나옴.\n",
    "logging.basicConfig(level=logging.INFO)\n",
    "logging.basicConfig(level=logging.WARNING)\n",
    "logging.basicConfig(level=logging.ERROR)\n",
    "logging.basicConfig(level=logging.CRITICAL)\n",
    "\n",
    "def hap(a, b):\n",
    "    ret = a + b\n",
    "    logging.debug(f\"Debug >> input: {a} {b}, output={ret}\")\n",
    "    logging.info(f\"info >> input: {a} {b}, output={ret}\")\n",
    "    logging.warning(f\"warring >> input: {a} {b}, output={ret}\")\n",
    "    logging.error(f\"error >> input: {a} {b}, output={ret}\")\n",
    "    logging.critical(f\"critical >> input: {a} {b}, output={ret}\")\n",
    "    return ret\n",
    "\n",
    "hap(3, 4)\n"
   ]
  }
 ],
 "metadata": {
  "kernelspec": {
   "display_name": "Python 3",
   "language": "python",
   "name": "python3"
  },
  "language_info": {
   "codemirror_mode": {
    "name": "ipython",
    "version": 3
   },
   "file_extension": ".py",
   "mimetype": "text/x-python",
   "name": "python",
   "nbconvert_exporter": "python",
   "pygments_lexer": "ipython3",
   "version": "3.11.4"
  },
  "orig_nbformat": 4
 },
 "nbformat": 4,
 "nbformat_minor": 2
}
